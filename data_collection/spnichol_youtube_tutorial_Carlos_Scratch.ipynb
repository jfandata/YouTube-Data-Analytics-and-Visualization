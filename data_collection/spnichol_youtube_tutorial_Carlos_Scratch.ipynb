{
 "cells": [
  {
   "cell_type": "markdown",
   "metadata": {},
   "source": [
    "https://towardsdatascience.com/tutorial-using-youtubes-annoying-data-api-in-python-part-1-9618beb0e7ea\n",
    "\n",
    "https://github.com/spnichol/youtube_tutorial/blob/master/youtube_tutorial_part1.py\n",
    "\n",
    "pip install --upgrade google-api-python-client\n",
    "\n",
    "pip install --upgrade google-auth google-auth-oauthlib google-auth-httplib2\n",
    "\n",
    "pip install --upgrade oauth2client\n"
   ]
  },
  {
   "cell_type": "code",
   "execution_count": 1,
   "metadata": {},
   "outputs": [],
   "source": [
    "import sys\n",
    "sys.path.append('C:\\\\Users\\\\soria\\\\Documents\\\\WashUDataDocuments\\\\HwActivites\\\\YouTube_Project\\\\')\n",
    "from config import YOUTUBE_DATA_API_KEY\n",
    "import pandas as pd\n",
    "import json\n",
    "import os\n",
    "\n",
    "from apiclient.discovery import build\n",
    "from apiclient.errors import HttpError\n",
    "from oauth2client.tools import argparser\n",
    "\n"
   ]
  },
  {
   "cell_type": "code",
   "execution_count": 7,
   "metadata": {},
   "outputs": [
    {
     "data": {
      "text/plain": [
       "'C:\\\\Users\\\\soria\\\\Documents\\\\WashUDataDocuments\\\\HwActivites\\\\YouTube_Project\\\\YouTube-Data-Analytics-and-Visualization\\\\data_collection'"
      ]
     },
     "execution_count": 7,
     "metadata": {},
     "output_type": "execute_result"
    }
   ],
   "source": [
    "os.getcwd()"
   ]
  },
  {
   "cell_type": "code",
   "execution_count": null,
   "metadata": {},
   "outputs": [],
   "source": []
  },
  {
   "cell_type": "code",
   "execution_count": 2,
   "metadata": {},
   "outputs": [],
   "source": [
    "DEVELOPER_KEY = YOUTUBE_DATA_API_KEY\n",
    "YOUTUBE_API_SERVICE_NAME = \"youtube\"\n",
    "YOUTUBE_API_VERSION = \"v3\"\n"
   ]
  },
  {
   "cell_type": "markdown",
   "metadata": {},
   "source": [
    "https://github.com/spnichol/youtube_tutorial/blob/master/youtube_videos.py"
   ]
  },
  {
   "cell_type": "code",
   "execution_count": 14,
   "metadata": {},
   "outputs": [],
   "source": [
    "def youtube_search(q, max_results=50,order=\"relevance\", token=None, location=None, location_radius=None):\n",
    "\n",
    "  youtube = build(YOUTUBE_API_SERVICE_NAME, YOUTUBE_API_VERSION,\n",
    "    developerKey=DEVELOPER_KEY)\n",
    "\n",
    "  search_response = youtube.search().list(\n",
    "    q=q,\n",
    "    type=\"video\",\n",
    "    pageToken=token,\n",
    "    order = order,\n",
    "    part=\"id,snippet\",\n",
    "    maxResults=max_results,\n",
    "    location=location,\n",
    "    locationRadius=location_radius\n",
    "\n",
    "  ).execute()\n",
    "\n",
    "\n",
    "\n",
    "  videos = []\n",
    "\n",
    "  for search_result in search_response.get(\"items\", []):\n",
    "    if search_result[\"id\"][\"kind\"] == \"youtube#video\":\n",
    "      videos.append(search_result)\n",
    "  try:\n",
    "      nexttok = search_response[\"nextPageToken\"]\n",
    "      return(nexttok, videos)\n",
    "  except Exception as e:\n",
    "      nexttok = \"last_page\"\n",
    "      return(nexttok, videos)\n",
    "\n",
    "\n",
    "def geo_query(video_id):\n",
    "    youtube = build(YOUTUBE_API_SERVICE_NAME, YOUTUBE_API_VERSION,\n",
    "                    developerKey=DEVELOPER_KEY)\n",
    "\n",
    "    video_response = youtube.videos().list(\n",
    "        id=video_id,\n",
    "        part='snippet, recordingDetails, statistics'\n",
    "\n",
    "    ).execute()\n",
    "\n",
    "    return video_response"
   ]
  },
  {
   "cell_type": "code",
   "execution_count": 18,
   "metadata": {},
   "outputs": [
    {
     "name": "stdout",
     "output_type": "stream",
     "text": [
      "The Spinners - I'll Be Around\n",
      "The Spinners - Love Don't Love Nobody (It Takes A Fool)\n",
      "The Spinners - Could It Be I'm Falling In Love (1973) (HDTV)\n",
      "The Spinners - Sadie\n",
      "HOW COULD I LET YOU GET AWAY / THE SPINNERS\n",
      "The Spinners - Mighty Love\n",
      "The Spinners   Working My Way Back To You Girl\n",
      "I'LL BE AROUND / THE SPINNERS\n",
      "The Spinners - Rubberband Man, on Midnight Special in 1976\n",
      "The Spinners - Working my way back to you (Ruud's Extended Mix)\n",
      "Games People Play (LP Version) - Spinners\n",
      "The Spinners - Love Don't Love Nobody\n",
      "Detroit Spinners  -  Rubberband Man\n",
      "COULD IT BE I'M FALLING IN LOVE / THE SPINNERS\n",
      "TOP BEST SUPER HERO FIDGET SPINNERS- WHICH IS YOUR FAVORITE??\n",
      "The Spinners - It's A Shame\n",
      "The Spinners -  Could It  Be I'm Falling In Love - Live 1973\n",
      "The Spinners-Working my way back to you\n",
      "Unsung   The Spinners\n",
      "The Spinners - Sadie\n",
      "FIDGET SPINNERS COM CARINHAS\n",
      "The Spinners - Could It Be I'm Falling in Love\n",
      "My \"Best Of ... The Detroit Spinners Part 1 of 2\" Compilation\n",
      "6 HAND SPINNERS MAIS CAROS DO MUNDO\n",
      "Accidentes Causados Por Fidget Spinners.\n",
      "The Spinners - It's A Shame (Slayd5000)\n",
      "Fidget Spinner Tricks For Beginners\n",
      "BATALHA ÉPICA DE FIDGET SPINNERS - QUEM GANHOU? [+13]\n",
      "45 Must Have FIDGET SPINNERS!! Spiderman's Collection\n",
      "DIY Fidget Spinner MELTS IN YOUR HAND!!!!!!!! Rare Liquid Mirror DIY Fidget Spinners Toys & Tricks\n",
      "STARBURST FIDGET SPINNER!! (CANDY MOD)\n",
      "Em Busca de FIDGET SPINNERS RAROS p/ Crianças - Fidget Spinners Rare Metal for Kids\n",
      "BEST METAL FIDGET SPINNERS (SUPER RARE!)\n",
      "Fidget Spinner Trick Shots | Dude Perfect\n",
      "The Spinners - \"RUBBERBAND MAN\" - FROM AVENGERS INFINITY WAR\n",
      "5 Awesome Fidget Spinner Tricks\n",
      "Top 10 MILLION DOLLAR FIDGET SPINNERS! (Most RARE Edc Hand Spinner)\n",
      "TOP 100 INCREÍBLES FIDGET SPINNERS!!  LOS MEJORES FIDGET SPINNERS!!\n",
      "TRUCOS CON FIDGET SPINNERS !! - RobleisIUTU\n",
      "9 AWESOME FIDGET SPINNER TRICKS & LIFE HACKS\n",
      "5 CRIANÇAS PRESAS POR USAREM FIDGET SPINNER\n",
      "FIDGET SPINNER ALIENS\n",
      "OS MAIORES HAND SPINNERS DO MUNDO - PARTE 2 (Top 5)\n",
      "Tony | Spinner Chơi Đá Banh Siêu Đỉnh - Spinners Play Soccer\n",
      "Huevo Sorpresa Gigante de Fidget Spinner Negro Arcoiris Nuevo LLeno de Espiners Plastilina\n",
      "Cómo hacer 4 SPINNERS... ¡MUY ESTÚPIDOS!\n",
      "LOS FIDGET SPINNERS MAS CAROS !!\n",
      "OS HAND SPINNERS MAIS INCRÍVEIS DO MUNDO!!\n",
      "10 CRIANÇAS QUE SE DERAM MUITO MAL COM HAND SPINNER\n",
      "FIDGET SPINNERS de TODO TIPO! | Cuál es el MEJOR? | Unboxing #126\n",
      "added 50 videos to a total of 50\n",
      "added 50 videos to a total of 100\n",
      "added 50 videos to a total of 150\n",
      "added 50 videos to a total of 200\n",
      "added 50 videos to a total of 250\n",
      "added 50 videos to a total of 300\n",
      "added 50 videos to a total of 350\n",
      "added 50 videos to a total of 400\n",
      "added 50 videos to a total of 450\n",
      "added 50 videos to a total of 500\n",
      "added 50 videos to a total of 550\n",
      "added 39 videos to a total of 589\n",
      "added 0 videos to a total of 589\n",
      "added 0 videos to a total of 589\n",
      "added 0 videos to a total of 589\n",
      "added 0 videos to a total of 589\n",
      "added 0 videos to a total of 589\n",
      "added 0 videos to a total of 589\n",
      "added 0 videos to a total of 589\n",
      "added 0 videos to a total of 589\n"
     ]
    }
   ],
   "source": [
    "test = youtube_search(\"spinners\")\n",
    "\n",
    "video_dict = {'youID':[], 'title':[], 'pub_date':[]}\n",
    "\n",
    "just_json = test[1]\n",
    "len(just_json)\n",
    "\n",
    "\n",
    "for video in just_json:\n",
    "    print(video['snippet']['title'])\n",
    "\n",
    "token = test[0]\n",
    "youtube_search(\"spinners\", token=token)\n",
    "\n",
    "\n",
    "\n",
    "video_dict = {'youID':[], 'title':[], 'pub_date':[]}\n",
    "\n",
    "def grab_videos(keyword, token=None):\n",
    "    res = youtube_search(keyword, token=token)\n",
    "    token = res[0]\n",
    "    videos = res[1]\n",
    "    for vid in videos:\n",
    "        video_dict['youID'].append(vid['id']['videoId'])\n",
    "        video_dict['title'].append(vid['snippet']['title'])\n",
    "        video_dict['pub_date'].append(vid['snippet']['publishedAt'])\n",
    "    print(\"added \" + str(len(videos)) + \" videos to a total of \" + str(len(video_dict['youID'])))\n",
    "    return token\n",
    "\n",
    "\n",
    "\n",
    "\n",
    "\n",
    "token = grab_videos(\"spinners\")\n",
    "while token != \"last_page\":\n",
    "    token = grab_videos(\"spinners\", token=token)"
   ]
  },
  {
   "cell_type": "markdown",
   "metadata": {},
   "source": [
    "part 2\n",
    "\n",
    "https://towardsdatascience.com/tutorial-using-youtubes-python-api-for-data-science-part-2-8905f72b5b1a\n",
    "\n",
    "https://github.com/spnichol/youtube_tutorial/blob/master/youtube_tutorial_part2.py"
   ]
  },
  {
   "cell_type": "code",
   "execution_count": null,
   "metadata": {},
   "outputs": [],
   "source": [
    "\n",
    "test = youtube_search(\"spinners\", location=\"40.730610, -73.935242\", location_radius=\"50km\")\n",
    "\n",
    "\n",
    "geo_test = geo_query('r2GYzQvfARo')\n",
    "\n",
    "\n",
    "location_dict = {\"youID\":[], \"lat\":[], \"lon\":[]}\n",
    "for video in test[1]:\n",
    "    location_dict['youID'].append((video['id']['videoId']))\n",
    "    geo = geo_query(video['id']['videoId'])\n",
    "    location_dict['lat'].append(geo['items'][0]['recordingDetails']['location']['latitude'])\n",
    "    location_dict['lon'].append(geo['items'][0]['recordingDetails']['location']['longitude'])\n"
   ]
  }
 ],
 "metadata": {
  "kernelspec": {
   "display_name": "Python [conda env:PythonData]",
   "language": "python",
   "name": "conda-env-PythonData-py"
  },
  "language_info": {
   "codemirror_mode": {
    "name": "ipython",
    "version": 3
   },
   "file_extension": ".py",
   "mimetype": "text/x-python",
   "name": "python",
   "nbconvert_exporter": "python",
   "pygments_lexer": "ipython3",
   "version": "3.6.6"
  }
 },
 "nbformat": 4,
 "nbformat_minor": 2
}
