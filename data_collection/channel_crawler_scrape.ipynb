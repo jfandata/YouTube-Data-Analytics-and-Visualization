{
 "cells": [
  {
   "cell_type": "code",
   "execution_count": 5,
   "metadata": {},
   "outputs": [],
   "source": [
    "from splinter import Browser\n",
    "from bs4 import BeautifulSoup as bs\n",
    "import pandas as pd\n",
    "import pymongo\n",
    "from pprint import pprint\n",
    "from datetime import datetime\n",
    "import re\n",
    "import os\n",
    "from selenium import webdriver\n"
   ]
  },
  {
   "cell_type": "code",
   "execution_count": 2,
   "metadata": {},
   "outputs": [],
   "source": [
    "executable_path = {'executable_path': '/Users/soria/Anaconda3/Scripts/chromedriver'}\n",
    "browser = Browser('chrome', **executable_path)\n"
   ]
  },
  {
   "cell_type": "code",
   "execution_count": 3,
   "metadata": {},
   "outputs": [],
   "source": [
    "url = \"http://www.channelcrawler.com/eng\"\n",
    "browser.visit(url)\n",
    "browser.is_element_present_by_css(\"input#queryMinSubs\", wait_time=1)\n",
    "html = browser.html\n"
   ]
  },
  {
   "cell_type": "code",
   "execution_count": 4,
   "metadata": {},
   "outputs": [
    {
     "data": {
      "text/plain": [
       "<input class=\"form-control\" id=\"queryMinSubs\" name=\"data[query][min_subs]\" placeholder=\"Min\" type=\"text\"/>"
      ]
     },
     "execution_count": 4,
     "metadata": {},
     "output_type": "execute_result"
    }
   ],
   "source": [
    "channel_soup.find('input', id='queryMinSubs')"
   ]
  },
  {
   "cell_type": "code",
   "execution_count": 11,
   "metadata": {},
   "outputs": [],
   "source": [
    "minSubs = 10000000\n",
    "driver = webdriver.Chrome()\n",
    "driver.get(url)\n",
    "sbox = driver.find_element_by_id('queryMinSubs')\n",
    "sbox.send_keys(minSubs)\n",
    "submit = driver.find_element_by_class_name('submitbutton')\n",
    "submit.click()\n"
   ]
  },
  {
   "cell_type": "code",
   "execution_count": 16,
   "metadata": {},
   "outputs": [],
   "source": [
    "html = driver.page_source\n",
    "channel_soup = bs(html, 'html.parser')\n",
    "channel_divs = channel_soup.find_all('div', class_=\"channel\")"
   ]
  },
  {
   "cell_type": "code",
   "execution_count": 50,
   "metadata": {},
   "outputs": [
    {
     "data": {
      "text/plain": [
       "'\\n\\t\\t\\t\\t\\t11,430,063 Subscribers\\n\\t\\t\\t\\t\\t2095 Videos\\n\\t\\t\\t\\t\\tJoin Date: 19.10.2015\\t\\t\\t\\t'"
      ]
     },
     "execution_count": 50,
     "metadata": {},
     "output_type": "execute_result"
    }
   ],
   "source": [
    "smalls = channel_divs[1].find_all('small')\n",
    "smalls[1].get_text()\n",
    "    "
   ]
  },
  {
   "cell_type": "code",
   "execution_count": 44,
   "metadata": {},
   "outputs": [
    {
     "data": {
      "text/plain": [
       "[{'title': 'Maroon 5',\n",
       "  'channel_url': 'http://www.youtube.com/channel/UCBVjMGOIkavEAhyqpxJ73Dw',\n",
       "  'thumbnail': 'https://yt3.ggpht.com/a-/AAuE7mA3aBvEoB6djY9q0xt6P-XI9bNI7xx9gHimug=s88-mo-c-c0xffffffff-rj-k-no'},\n",
       " {'title': 'Technical Guruji',\n",
       "  'channel_url': 'http://www.youtube.com/channel/UCOhHO2ICt0ti9KAh-QHvttQ',\n",
       "  'thumbnail': 'https://yt3.ggpht.com/a-/AAuE7mBrECozW9Jfp_sLjqKFpYtBIEEqZHv9OcLF8A=s88-mo-c-c0xffffffff-rj-k-no'},\n",
       " {'title': 'PewDiePie',\n",
       "  'channel_url': 'http://www.youtube.com/channel/UC-lHJZR3Gqxm24_Vd_AJ5Yw',\n",
       "  'thumbnail': 'https://yt3.ggpht.com/a-/AAuE7mAPBVgUYqlLw9SvJyKAVWmgkQ2-KrkgSv4_5A=s88-mo-c-c0xffffffff-rj-k-no'},\n",
       " {'title': 'Jimmy Kimmel Live',\n",
       "  'channel_url': 'http://www.youtube.com/channel/UCa6vGFO9ty8v5KZJXQxdhaw',\n",
       "  'thumbnail': 'https://yt3.ggpht.com/a-/AAuE7mALYvrClnYCRq2J4Qp8qupyOEp0XiWxW1LkyA=s88-mo-c-c0xffffffff-rj-k-no'},\n",
       " {'title': 'YRF',\n",
       "  'channel_url': 'http://www.youtube.com/channel/UCbTLwN10NoCU4WDzLf1JMOA',\n",
       "  'thumbnail': 'https://yt3.ggpht.com/a-/AAuE7mDW5XXrBR__n6GZ1usaLywS-VYYn3u1f-H-9A=s88-mo-c-c0xffffffff-rj-k-no'},\n",
       " {'title': 'Kids TV - Nursery Rh...',\n",
       "  'channel_url': 'http://www.youtube.com/channel/UC7Pq3Ko42YpkCB_Q4E981jw',\n",
       "  'thumbnail': 'https://yt3.ggpht.com/a-/AAuE7mBGCHCxP4MA3Ty487cWiSP6IkL9Yb1JHK_97A=s88-mo-c-c0xffffffff-rj-k-no'},\n",
       " {'title': 'Colors TV',\n",
       "  'channel_url': 'http://www.youtube.com/channel/UC55IWqFLDH1Xp7iu1_xknRA',\n",
       "  'thumbnail': 'https://yt3.ggpht.com/a-/AAuE7mAsQUDQn2wL1rXOnFuFZF1orFnG3iH5Ri2V=s88-mo-c-c0xffffffff-rj-k-no'},\n",
       " {'title': 'LooLoo Kids - Nurser...',\n",
       "  'channel_url': 'http://www.youtube.com/channel/UC4NALVCmcmL5ntpV0thoH6w',\n",
       "  'thumbnail': 'https://yt3.ggpht.com/a-/AAuE7mAuH60fpy8VAm0T9NBi9aFg-ad50REDWbtzXQ=s88-mo-c-c0xffffffff-rj-k-no'},\n",
       " {'title': 'FBE',\n",
       "  'channel_url': 'http://www.youtube.com/channel/UC0v-tlzsn0QZwJnkiaUSJVQ',\n",
       "  'thumbnail': 'https://yt3.ggpht.com/a-/AAuE7mCOoi7hggqMMUs8KA3IEnYnGlVCsUXyOiZCVA=s88-mo-c-c0xffffffff-rj-k-no'},\n",
       " {'title': 'Jelly',\n",
       "  'channel_url': 'http://www.youtube.com/channel/UC0DZmkupLYwc0yDsfocLh0A',\n",
       "  'thumbnail': 'https://yt3.ggpht.com/a-/AAuE7mCA6gim5zJpGB9l8wEaFsv5G362SPVnLyAgLA=s88-mo-c-c0xffffffff-rj-k-no'},\n",
       " {'title': 'Movieclips',\n",
       "  'channel_url': 'http://www.youtube.com/channel/UC3gNmTGu-TTbFPpfSs5kNkg',\n",
       "  'thumbnail': 'https://yt3.ggpht.com/a-/AAuE7mAk_pCRoFEWjQgejPjL4hL5jUILyoNelb7k6Q=s88-mo-c-c0xffffffff-rj-k-no'},\n",
       " {'title': 'As/Is',\n",
       "  'channel_url': 'http://www.youtube.com/channel/UCay_OLhWtf9iklq8zg_or0g',\n",
       "  'thumbnail': 'https://yt3.ggpht.com/a-/AAuE7mCOdDQ1Ma05KUfSCGC80IHtymVBxVnPm8xl8A=s88-mo-c-c0xffffffff-rj-k-no'},\n",
       " {'title': 'Markiplier',\n",
       "  'channel_url': 'http://www.youtube.com/channel/UC7_YxT-KID8kRbqZo7MyscQ',\n",
       "  'thumbnail': 'https://yt3.ggpht.com/a-/AAuE7mDM6UJlVoJD65F8E0qPsG6SOGmkWYGhg3YSBQ=s88-mo-c-c0xffffffff-rj-k-no'},\n",
       " {'title': 'Trap Nation',\n",
       "  'channel_url': 'http://www.youtube.com/channel/UCa10nxShhzNrCE1o2ZOPztg',\n",
       "  'thumbnail': 'https://yt3.ggpht.com/a-/AAuE7mAWxQCUuBqj46ZxJlDySI9pqKc7JEw1Vfy-cA=s88-mo-c-c0xffffffff-rj-k-no'},\n",
       " {'title': 'SAB TV',\n",
       "  'channel_url': 'http://www.youtube.com/channel/UC6-F5tO8uklgE9Zy8IvbdFw',\n",
       "  'thumbnail': 'https://yt3.ggpht.com/a-/AAuE7mBIgRT8f-O1UF6hJpRmrLCqqrw_TEk_EDlAEQ=s88-mo-c-c0xffffffff-rj-k-no'},\n",
       " {'title': 'Amit Bhadana',\n",
       "  'channel_url': 'http://www.youtube.com/channel/UC_vcKmg67vjMP7ciLnSxSHQ',\n",
       "  'thumbnail': 'https://yt3.ggpht.com/a-/AAuE7mDn04wR5muDtqPVnfbuWs8fotigBnla9Q5Yrw=s88-mo-c-c0xffffffff-rj-k-no'},\n",
       " {'title': 'Wave Music',\n",
       "  'channel_url': 'http://www.youtube.com/channel/UC22nIfOTM7KLIQuFGMKzQbg',\n",
       "  'thumbnail': 'https://yt3.ggpht.com/a-/AAuE7mCPycFKPFheRl7Nd1_SI5NmXo2EQAf_JFZS6A=s88-mo-c-c0xffffffff-rj-k-no'},\n",
       " {'title': 'Good Mythical Mornin...',\n",
       "  'channel_url': 'http://www.youtube.com/channel/UC4PooiX37Pld1T8J5SYT-SQ',\n",
       "  'thumbnail': 'https://yt3.ggpht.com/a-/AAuE7mB3X5xm13GUdlK5Yr8pfn6rqk0S7B56q_vleg=s88-mo-c-c0xffffffff-rj-k-no'},\n",
       " {'title': 'Ch3Thailand',\n",
       "  'channel_url': 'http://www.youtube.com/channel/UC48h7Dst_hX82HxOf3xJw_w',\n",
       "  'thumbnail': 'https://yt3.ggpht.com/a-/AAuE7mD5qYbn5z2EcweljVRzAZdZHzbeMAQ2zHQqCw=s88-mo-c-c0xffffffff-rj-k-no'},\n",
       " {'title': 'ABS-CBN Entertainmen...',\n",
       "  'channel_url': 'http://www.youtube.com/channel/UCstEtN0pgOmCf02EdXsGChw',\n",
       "  'thumbnail': 'https://yt3.ggpht.com/a-/AAuE7mA5RvKuk6r31-j8sVzEZb9cuHuzzcJjqsqXjw=s88-mo-c-c0xffffffff-rj-k-no'}]"
      ]
     },
     "execution_count": 44,
     "metadata": {},
     "output_type": "execute_result"
    }
   ],
   "source": [
    "list_10M_subs = []\n",
    "for channel in channel_divs:\n",
    "    channel_dict = {}\n",
    "    title_anchor = channel.find('a')\n",
    "    channel_dict['title'] = title_anchor.get_text()\n",
    "    channel_dict['channel_url'] = title_anchor['href']\n",
    "    anchors = channel.find_all('a')\n",
    "    channel_dict['thumbnail'] = anchors[1].find('img')['src']\n",
    "    list_10M_subs.append(channel_dict)\n",
    "    \n",
    "list_10M_subs"
   ]
  }
 ],
 "metadata": {
  "kernelspec": {
   "display_name": "Python [conda env:PythonData]",
   "language": "python",
   "name": "conda-env-PythonData-py"
  },
  "language_info": {
   "codemirror_mode": {
    "name": "ipython",
    "version": 3
   },
   "file_extension": ".py",
   "mimetype": "text/x-python",
   "name": "python",
   "nbconvert_exporter": "python",
   "pygments_lexer": "ipython3",
   "version": "3.6.6"
  }
 },
 "nbformat": 4,
 "nbformat_minor": 2
}
