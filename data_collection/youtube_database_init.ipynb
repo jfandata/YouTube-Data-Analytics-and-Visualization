{
 "cells": [
  {
   "cell_type": "code",
   "execution_count": 2,
   "metadata": {},
   "outputs": [],
   "source": [
    "import os\n",
    "\n",
    "import pymongo\n",
    "from bson.json_util import dumps, loads\n",
    "\n",
    "from splinter import Browser\n",
    "from bs4 import BeautifulSoup as bs\n",
    "from selenium import webdriver\n",
    "from selenium.webdriver.support.ui import Select\n",
    "from selenium.webdriver.support import expected_conditions as EC\n",
    "from selenium.webdriver.common.by import By\n",
    "from selenium.webdriver.support.ui import WebDriverWait # available since 2.4.0\n",
    "from selenium.webdriver.support import expected_conditions as EC # available since 2.26.0\n",
    "\n",
    "import pandas as pd\n",
    "\n",
    "import re\n",
    "from pprint import pprint\n",
    "from datetime import datetime\n",
    "import time\n",
    "\n",
    "import sqlalchemy\n",
    "from sqlalchemy import create_engine, MetaData, inspect, func\n",
    "from sqlalchemy.ext.declarative import declarative_base\n",
    "from sqlalchemy.ext.automap import automap_base\n",
    "from sqlalchemy import Column, Integer, String, Numeric, Text, Float, ForeignKey, Date, DateTime, Boolean, BigInteger\n",
    "from sqlalchemy.orm import sessionmaker, relationship\n",
    "\n",
    "\n",
    "import sys\n",
    "sys.path.append('C:\\\\Users\\\\soria\\\\Documents\\\\WashUDataDocuments\\\\HwActivites\\\\YouTube_Project\\\\')\n",
    "from config import YOUTUBE_DATA_API_KEY\n",
    "import pandas as pd\n",
    "import json\n",
    "import os\n",
    "from pprint import pprint\n",
    "\n",
    "from apiclient.discovery import build\n",
    "from apiclient.errors import HttpError\n",
    "from oauth2client.tools import argparser"
   ]
  },
  {
   "cell_type": "markdown",
   "metadata": {},
   "source": [
    "Connect to mongoDb client and create database name"
   ]
  },
  {
   "cell_type": "code",
   "execution_count": 3,
   "metadata": {},
   "outputs": [],
   "source": [
    "conn = 'mongodb://localhost:27017'\n",
    "client = pymongo.MongoClient(conn)\n",
    "mongoDb = client.youtube\n",
    "#   collection.insert_one(test_programs)\n",
    "#   collection = db[program_name]\n",
    "#   collection.update_one({}, {'$set': kdhx_dict}, upsert=True)\n"
   ]
  },
  {
   "cell_type": "markdown",
   "metadata": {},
   "source": [
    "Connect to local mySql, create engine, declare base"
   ]
  },
  {
   "cell_type": "code",
   "execution_count": 4,
   "metadata": {},
   "outputs": [],
   "source": [
    "rds_connection_string = \"root:Password@127.0.0.1\"\n",
    "engine = create_engine(f'mysql://{rds_connection_string}')\n",
    "engine.execute('CREATE DATABASE IF NOT EXISTS youtube_db')\n",
    "engine.execute('USE youtube_db')\n",
    "Base = declarative_base()\n"
   ]
  },
  {
   "cell_type": "markdown",
   "metadata": {},
   "source": [
    "base class for region_codes"
   ]
  },
  {
   "cell_type": "code",
   "execution_count": 5,
   "metadata": {},
   "outputs": [],
   "source": [
    "class Region_Codes(Base):\n",
    "    __tablename__ = 'region_codes'\n",
    "    id = Column(Integer, primary_key=True)\n",
    "    region = Column(String(256))\n",
    "    region_code = Column(String(256))\n",
    "    cat_ids = relationship(\"Category_Ids\", backref=\"cat_region_codes\")\n",
    "    \n",
    "    def __init__(self, region, region_code):\n",
    "        self.region = region\n",
    "        self.region_code = region_code\n",
    "        \n",
    "        \n",
    "    def __repr__(self):\n",
    "        return f\"id={self.id}, region={self.region}, region_code={self.region_code}\"\n",
    "    \n",
    "#     Region_Codes().cat_ids.append(Category_Ids())"
   ]
  },
  {
   "cell_type": "markdown",
   "metadata": {},
   "source": [
    "base class for category_ids"
   ]
  },
  {
   "cell_type": "code",
   "execution_count": 6,
   "metadata": {},
   "outputs": [],
   "source": [
    "class Category_Ids(Base):\n",
    "    __tablename__ = 'category_ids'\n",
    "    id = Column(Integer, primary_key=True)\n",
    "    region_codes_table_id = Column(Integer, ForeignKey('region_codes.id'))\n",
    "    category_title = Column(String(256))\n",
    "    category_id = Column(String(256))\n",
    "    category_is_assignable = Column(Boolean)\n",
    "    region_code = Column(String(256))\n",
    "    vids = relationship(\"Videos\", backref=\"vid_category_ids\")\n",
    "    \n",
    "    def __init__(self, category_title, category_id, category_is_assignable, region_code):\n",
    "        self.category_title = category_title\n",
    "        self.category_id = category_id\n",
    "        self.category_is_assignable = category_is_assignable\n",
    "        self.region_code = region_code\n",
    "        \n",
    "    def __repr__(self):\n",
    "        return f\"id={self.id}, category_title={self.category_title}, category_id={self.category_id}\"\n",
    "  \n",
    "    #     Category_Ids().vids.append(Video())"
   ]
  },
  {
   "cell_type": "markdown",
   "metadata": {},
   "source": [
    "base class for topic_ids"
   ]
  },
  {
   "cell_type": "code",
   "execution_count": 7,
   "metadata": {},
   "outputs": [],
   "source": [
    "class Topic_Ids(Base):\n",
    "    __tablename__ = 'topic_ids'\n",
    "    id = Column(Integer, primary_key=True)\n",
    "    topic_name = Column(String(256))\n",
    "    topic_id = Column(String(256))\n",
    "    topic_heading = Column(String(256))\n",
    "    channs = relationship(\"Channel\", backref=\"chann_topic_ids\")\n",
    "    vids = relationship(\"Videos\", backref=\"vid_topic_ids\")\n",
    "    \n",
    "    def __init__(self, topic_name, topic_id, topic_heading):\n",
    "        self.topic_name = topic_name\n",
    "        self.topic_id = topic_id\n",
    "        self.topic_heading = topic_heading\n",
    "        \n",
    "    def __repr__(self):\n",
    "        return f\"id={self.id}, topic_name={self.topic_name}, topic_id={self.topic_id}, topic_heading={self.topic_heading}\"\n",
    "    \n",
    "#     Topic_Ids().channs.append(Channel())\n",
    "#     Topic_Ids().vids.append(Video())\n"
   ]
  },
  {
   "cell_type": "markdown",
   "metadata": {},
   "source": [
    "base class for channels"
   ]
  },
  {
   "cell_type": "code",
   "execution_count": 8,
   "metadata": {},
   "outputs": [],
   "source": [
    "class Channel(Base):\n",
    "    __tablename__ = 'channels'\n",
    "    id = Column(Integer, primary_key=True)\n",
    "    topic_ids_table_id = Column(Integer, ForeignKey('topic_ids.id'))\n",
    "    channel_title = Column(String(256))\n",
    "    channel_url = Column(String(256))\n",
    "    channel_id = Column(String(256))\n",
    "    channel_keywords = Column(String(256))\n",
    "    channel_description = Column(String(1024))\n",
    "    subscribers = Column(BigInteger)\n",
    "    video_count = Column(Integer)\n",
    "    view_count = Column(BigInteger)\n",
    "    country = Column(String(256))\n",
    "    join_date = Column(Date)\n",
    "    topic_ids = Column(String(256))\n",
    "    cc_category = Column(String(256))\n",
    "    thumbnail_url = Column(String(256))\n",
    "    vids = relationship(\"Videos\", backref=\"vid_channels\")\n",
    "    \n",
    "    def __init__(self, topic_ids_table_id, channel_title, channel_url, channel_id, channel_keywords, channel_description,\\\n",
    "                 subscribers, video_count, view_count, country, join_date, topic_ids, cc_category, thumbnail_url):\n",
    "        self.topic_ids_table_id = topic_ids_table_id\n",
    "        self.channel_title = channel_title\n",
    "        self.channel_url = channel_url\n",
    "        self.channel_id = channel_id\n",
    "        self.subscribers = subscribers\n",
    "        self.video_count = video_count\n",
    "        self.view_count = view_count\n",
    "        self.country = country\n",
    "        self.join_date = join_date\n",
    "        self.join_dto = join_dto\n",
    "        self.topic_ids = topic_ids\n",
    "        self.cc_category = cc_category\n",
    "        self.thumbnail_url = thumbnail_url\n",
    "        \n",
    "        \n",
    "    def __repr__(self):\n",
    "        return f\"id={self.id}, channel_title={self.channel_title}, url={self.channel_url}\"\n",
    "    \n",
    "    #     Channel().vids.append(Video())"
   ]
  },
  {
   "cell_type": "markdown",
   "metadata": {},
   "source": [
    "base class for videos"
   ]
  },
  {
   "cell_type": "code",
   "execution_count": 9,
   "metadata": {},
   "outputs": [],
   "source": [
    "class Videos(Base):\n",
    "    __tablename__ = 'videos'\n",
    "    id = Column(Integer, primary_key=True)\n",
    "    channels_table_id = Column(Integer, ForeignKey('channels.id'))\n",
    "    topic_ids_table_id = Column(Integer, ForeignKey('topic_ids.id'))\n",
    "    category_ids_table_id = Column(Integer, ForeignKey('category_ids.id'))\n",
    "    video_title = Column(String(256))\n",
    "    video_description = Column(String(1024))\n",
    "    view_count = Column(BigInteger)\n",
    "    duration = Column(Integer) # https://stackoverflow.com/questions/15596753/how-do-i-get-video-durations-with-youtube-api-version-3\n",
    "    like_count = Column(Integer)\n",
    "    dislike_count = Column(Integer)\n",
    "    favorite_count = Column(Integer)\n",
    "    comment_count = Column(Integer)\n",
    "    published_at = Column(DateTime)\n",
    "    published_at_dto = Column(DateTime)\n",
    "    tags = Column(String(256))\n",
    "    dimension = Column(String(256))\n",
    "    definition = Column(String(256))\n",
    "    caption = Column(Boolean)\n",
    "    licensedContent = Column(Boolean)\n",
    "    license = Column(String(256))\n",
    "    \n",
    "    \n",
    "    def __init__(self, channels_table_id, topic_ids_table_id, category_ids_table_id, video_title, video_description,\\\n",
    "                 view_count, duration, like_count, dislike_count, favorite_count, comment_count, published_at,\\\n",
    "                 published_at_dto, tags, dimension, definition, caption, licensedContent, license):\n",
    "        self.channels_table_id = channels_table_id\n",
    "        self.topic_ids_table_id = topic_ids_table_id\n",
    "        self.category_ids_table_id = category_ids_table_id\n",
    "        self.video_title = video_title\n",
    "        self.view_count = view_count\n",
    "        self.duration = duration\n",
    "        self.like_count = like_count\n",
    "        self.dislike_count = dislike_count\n",
    "        self.favorite_count = favorite_count\n",
    "        self.comment_count = comment_count\n",
    "        self.published_at = published_at\n",
    "        self.published_at_dto = published_at_dto\n",
    "        self.tags = tags\n",
    "        self.dimension = topic_ids\n",
    "        self.definition = definition\n",
    "        self.caption = caption\n",
    "        self.licensedContent = licensedContent\n",
    "        self.license = license\n",
    "        \n",
    "        \n",
    "    def __repr__(self):\n",
    "        return f\"id={self.id}, video_title={self.video_title}, view_count={self.view_count}\"\n",
    "    \n"
   ]
  },
  {
   "cell_type": "raw",
   "metadata": {},
   "source": [
    "create sessionmaker to manage database add/commit"
   ]
  },
  {
   "cell_type": "code",
   "execution_count": 10,
   "metadata": {},
   "outputs": [],
   "source": [
    "Session = sessionmaker(bind=engine)\n",
    "sqlDbSession = Session()"
   ]
  },
  {
   "cell_type": "markdown",
   "metadata": {},
   "source": [
    "Create a \"Metadata\" Layer That Abstracts our SQL Database"
   ]
  },
  {
   "cell_type": "code",
   "execution_count": 11,
   "metadata": {},
   "outputs": [],
   "source": [
    "\n",
    "\n",
    "Base.metadata.create_all(engine)\n",
    "\n",
    "# Use this to clear out the db\n",
    "# ----------------------------------\n",
    "# Base.metadata.drop_all(engine)"
   ]
  },
  {
   "cell_type": "markdown",
   "metadata": {},
   "source": [
    "point splinter to chromedriver, assign browser object to variable"
   ]
  },
  {
   "cell_type": "code",
   "execution_count": 12,
   "metadata": {},
   "outputs": [],
   "source": [
    "executable_path = {'executable_path': '/Users/soria/Anaconda3/Scripts/chromedriver'}\n",
    "browser = Browser('chrome', **executable_path)\n"
   ]
  },
  {
   "cell_type": "markdown",
   "metadata": {},
   "source": [
    "declare url to gist site hosting topic id list, visit and wait for necessary element to load"
   ]
  },
  {
   "cell_type": "code",
   "execution_count": 13,
   "metadata": {},
   "outputs": [],
   "source": [
    "url = \"https://gist.github.com/stpe/2951130dfc8f1d0d1a2ad736bef3b703\"\n",
    "driver = webdriver.Chrome()\n",
    "driver.get(url)\n",
    "wait = WebDriverWait(driver, 10)\n",
    "element = wait.until(EC.element_to_be_clickable((By.ID,'user-content-other-topics')))\n"
   ]
  },
  {
   "cell_type": "code",
   "execution_count": 14,
   "metadata": {},
   "outputs": [
    {
     "data": {
      "text/plain": [
       "['ClassDB',\n",
       " 'admin',\n",
       " 'config',\n",
       " 'craigslist_app',\n",
       " 'craigslist_db',\n",
       " 'fruits_db',\n",
       " 'kdhx',\n",
       " 'kdhx_shows',\n",
       " 'local',\n",
       " 'mars_app',\n",
       " 'nhl_db',\n",
       " 'store_inventory',\n",
       " 'team_db',\n",
       " 'travel_db',\n",
       " 'weather_app']"
      ]
     },
     "execution_count": 14,
     "metadata": {},
     "output_type": "execute_result"
    }
   ],
   "source": [
    "client.list_database_names()"
   ]
  },
  {
   "cell_type": "code",
   "execution_count": 15,
   "metadata": {},
   "outputs": [
    {
     "data": {
      "text/plain": [
       "[]"
      ]
     },
     "execution_count": 15,
     "metadata": {},
     "output_type": "execute_result"
    }
   ],
   "source": [
    "mongoDb.list_collection_names()"
   ]
  },
  {
   "cell_type": "code",
   "execution_count": null,
   "metadata": {},
   "outputs": [],
   "source": []
  },
  {
   "cell_type": "code",
   "execution_count": null,
   "metadata": {},
   "outputs": [],
   "source": []
  },
  {
   "cell_type": "code",
   "execution_count": 16,
   "metadata": {},
   "outputs": [],
   "source": [
    "collection = mongoDb.topicId_gist_html\n",
    "if mongoDb.topicId_gist_html.find_one():\n",
    "    html = mongoDb.topicId_gist_html.find_one()['channel_crawler_html']\n",
    "else:\n",
    "    html = driver.page_source\n",
    "topic_id_html_dict = {'topicId_gist_url': driver.current_url, 'channel_crawler_html':html}\n",
    "collection.update_one({}, {'$set': topic_id_html_dict}, upsert=True)\n",
    "topic_soup = bs(html, 'html.parser')\n",
    "heading_list = []\n",
    "topic_headings = topic_soup.find_all('h2')\n",
    "for heading in topic_headings:\n",
    "    heading_list.append(heading.text)\n",
    "topics_dict = {}\n",
    "topic_dict_list = []\n",
    "topics = topic_soup.find_all('li')\n",
    "for index, topic in enumerate(topics[4:20]):\n",
    "    text = topic.text\n",
    "    topic_tuple = re.split(r'\\s\\s\\s', text)\n",
    "    collection = mongoDb.youtube_topicIds\n",
    "    topic_name = topic_tuple[1]\n",
    "    topic_id = topic_tuple[0]\n",
    "    topic_heading = heading_list[0]\n",
    "    topics_dict.setdefault(topic_heading, [])\n",
    "    topics_dict[topic_heading].append({'topic_name': topic_name, 'topic_id': topic_id, 'topic_heading': topic_heading})\n",
    "    topic_dict_list.append(topics_dict)\n",
    "    collection.update_one({}, {'$set': topics_dict}, upsert=True)\n",
    "    sqlDbSession.merge(Topic_Ids(topic_name, topic_id, topic_heading))\n",
    "    sqlDbSession.commit()\n",
    "for index, topic in enumerate(topics[20:31]):\n",
    "    text = topic.text\n",
    "    topic_tuple = re.split(r'\\s\\s\\s', text)\n",
    "    collection = mongoDb.youtube_topicIds\n",
    "    topic_name = topic_tuple[1]\n",
    "    topic_id = topic_tuple[0]\n",
    "    topic_heading = heading_list[0]\n",
    "    topics_dict.setdefault(topic_heading, [])\n",
    "    topics_dict[topic_heading].append({'topic_name': topic_name, 'topic_id': topic_id, 'topic_heading': topic_heading})\n",
    "    topic_dict_list.append(topics_dict)\n",
    "    collection.update_one({}, {'$set': topics_dict}, upsert=True)\n",
    "    sqlDbSession.merge(Topic_Ids(topic_name, topic_id, topic_heading))\n",
    "    sqlDbSession.commit()\n",
    "for index, topic in enumerate(topics[31:45]):\n",
    "    text = topic.text\n",
    "    topic_tuple = re.split(r'\\s\\s\\s', text)\n",
    "    collection = mongoDb.youtube_topicIds\n",
    "    topic_name = topic_tuple[1]\n",
    "    topic_id = topic_tuple[0]\n",
    "    topic_heading = heading_list[0]\n",
    "    topics_dict.setdefault(topic_heading, [])\n",
    "    topics_dict[topic_heading].append({'topic_name': topic_name, 'topic_id': topic_id, 'topic_heading': topic_heading}) \n",
    "    topic_dict_list.append(topics_dict)\n",
    "    collection.update_one({}, {'$set': topics_dict}, upsert=True)\n",
    "    sqlDbSession.merge(Topic_Ids(topic_name, topic_id, topic_heading))\n",
    "    sqlDbSession.commit()\n",
    "for index, topic in enumerate(topics[45:50]):\n",
    "    text = topic.text\n",
    "    topic_tuple = re.split(r'\\s\\s\\s', text)\n",
    "    collection = mongoDb.youtube_topicIds\n",
    "    topic_name = topic_tuple[1]\n",
    "    topic_id = topic_tuple[0]\n",
    "    topic_heading = heading_list[0]\n",
    "    topics_dict.setdefault(topic_heading, [])\n",
    "    topics_dict[topic_heading].append({'topic_name': topic_name, 'topic_id': topic_id, 'topic_heading': topic_heading}) \n",
    "    topic_dict_list.append(topics_dict)\n",
    "    collection.update_one({}, {'$set': topics_dict}, upsert=True)\n",
    "    sqlDbSession.merge(Topic_Ids(topic_name, topic_id, topic_heading))\n",
    "    sqlDbSession.commit()\n",
    "for index, topic in enumerate(topics[50:61]):\n",
    "    text = topic.text\n",
    "    topic_tuple = re.split(r'\\s\\s\\s', text)\n",
    "    collection = mongoDb.youtube_topicIds\n",
    "    topic_name = topic_tuple[1]\n",
    "    topic_id = topic_tuple[0]\n",
    "    topic_heading = heading_list[0]\n",
    "    topics_dict.setdefault(topic_heading, [])\n",
    "    topics_dict[topic_heading].append({'topic_name': topic_name, 'topic_id': topic_id, 'topic_heading': topic_heading}) \n",
    "    topic_dict_list.append(topics_dict)\n",
    "    collection.update_one({}, {'$set': topics_dict}, upsert=True)\n",
    "    sqlDbSession.merge(Topic_Ids(topic_name, topic_id, topic_heading))\n",
    "    sqlDbSession.commit()\n",
    "for index, topic in enumerate(topics[61:63]):\n",
    "    text = topic.text\n",
    "    topic_tuple = re.split(r'\\s\\s\\s', text)\n",
    "    collection = mongoDb.youtube_topicIds\n",
    "    topic_name = topic_tuple[1]\n",
    "    topic_id = topic_tuple[0]\n",
    "    topic_heading = heading_list[0]\n",
    "    topics_dict.setdefault(topic_heading, [])\n",
    "    topics_dict[topic_heading].append({'topic_name': topic_name, 'topic_id': topic_id, 'topic_heading': topic_heading})\n",
    "    topic_dict_list.append(topics_dict)\n",
    "    collection.update_one({}, {'$set': topics_dict}, upsert=True)\n",
    "    sqlDbSession.merge(Topic_Ids(topic_name, topic_id, topic_heading))\n",
    "    sqlDbSession.commit()"
   ]
  },
  {
   "cell_type": "code",
   "execution_count": 17,
   "metadata": {},
   "outputs": [],
   "source": [
    "topic_results = sqlDbSession.query(Topic_Ids.topic_name, Topic_Ids.topic_id, Topic_Ids.topic_heading)\\\n",
    "                    .all()\n",
    "topic_name = [result[0] for result in topic_results]\n",
    "topic_ids = [result[1] for result in topic_results]\n",
    "topic_headings = [result[2] for result in topic_results]"
   ]
  },
  {
   "cell_type": "code",
   "execution_count": 18,
   "metadata": {},
   "outputs": [],
   "source": [
    "topic_df = pd.DataFrame(topic_results, columns=['topic_name', 'topic_ids', 'topic_headings'])\n",
    "# topic_df.set_index('topic_name', inplace=True, )\n",
    "topic_df.head()\n",
    "topic_df.to_csv('./../../../youtube_project_data/youtube_topic_ids.csv')"
   ]
  },
  {
   "cell_type": "code",
   "execution_count": 19,
   "metadata": {},
   "outputs": [],
   "source": [
    "sqlDbSession.close()"
   ]
  },
  {
   "cell_type": "code",
   "execution_count": 20,
   "metadata": {},
   "outputs": [
    {
     "data": {
      "text/html": [
       "<div>\n",
       "<style scoped>\n",
       "    .dataframe tbody tr th:only-of-type {\n",
       "        vertical-align: middle;\n",
       "    }\n",
       "\n",
       "    .dataframe tbody tr th {\n",
       "        vertical-align: top;\n",
       "    }\n",
       "\n",
       "    .dataframe thead th {\n",
       "        text-align: right;\n",
       "    }\n",
       "</style>\n",
       "<table border=\"1\" class=\"dataframe\">\n",
       "  <thead>\n",
       "    <tr style=\"text-align: right;\">\n",
       "      <th></th>\n",
       "      <th>id</th>\n",
       "      <th>topic_name</th>\n",
       "      <th>topic_id</th>\n",
       "      <th>topic_heading</th>\n",
       "    </tr>\n",
       "  </thead>\n",
       "  <tbody>\n",
       "    <tr>\n",
       "      <th>0</th>\n",
       "      <td>1</td>\n",
       "      <td>Music</td>\n",
       "      <td>/m/04rlf</td>\n",
       "      <td>Music topics</td>\n",
       "    </tr>\n",
       "    <tr>\n",
       "      <th>1</th>\n",
       "      <td>2</td>\n",
       "      <td>Children's music</td>\n",
       "      <td>/m/05fw6t</td>\n",
       "      <td>Music topics</td>\n",
       "    </tr>\n",
       "    <tr>\n",
       "      <th>2</th>\n",
       "      <td>3</td>\n",
       "      <td>Christian music</td>\n",
       "      <td>/m/02mscn</td>\n",
       "      <td>Music topics</td>\n",
       "    </tr>\n",
       "    <tr>\n",
       "      <th>3</th>\n",
       "      <td>4</td>\n",
       "      <td>Classical music</td>\n",
       "      <td>/m/0ggq0m</td>\n",
       "      <td>Music topics</td>\n",
       "    </tr>\n",
       "    <tr>\n",
       "      <th>4</th>\n",
       "      <td>5</td>\n",
       "      <td>Country</td>\n",
       "      <td>/m/01lyv</td>\n",
       "      <td>Music topics</td>\n",
       "    </tr>\n",
       "  </tbody>\n",
       "</table>\n",
       "</div>"
      ],
      "text/plain": [
       "   id         topic_name   topic_id topic_heading\n",
       "0   1              Music   /m/04rlf  Music topics\n",
       "1   2   Children's music  /m/05fw6t  Music topics\n",
       "2   3    Christian music  /m/02mscn  Music topics\n",
       "3   4    Classical music  /m/0ggq0m  Music topics\n",
       "4   5            Country   /m/01lyv  Music topics"
      ]
     },
     "execution_count": 20,
     "metadata": {},
     "output_type": "execute_result"
    }
   ],
   "source": [
    "rds_connection_string = \"root:Password@127.0.0.1\"\n",
    "engine = create_engine(f'mysql://{rds_connection_string}')\n",
    "# engine.execute('CREATE DATABASE IF NOT EXISTS youtube_db')\n",
    "engine.execute('USE youtube_db')\n",
    "topic_stmt = sqlDbSession.query(Topic_Ids).statement\n",
    "topic_df2 = pd.read_sql_query(topic_stmt, con=engine)\n",
    "topic_df2.head()"
   ]
  },
  {
   "cell_type": "code",
   "execution_count": 21,
   "metadata": {},
   "outputs": [],
   "source": [
    "Session = sessionmaker(bind=engine)\n",
    "sqlDbSession = Session()"
   ]
  },
  {
   "cell_type": "code",
   "execution_count": 22,
   "metadata": {},
   "outputs": [],
   "source": [
    "DEVELOPER_KEY = YOUTUBE_DATA_API_KEY\n",
    "YOUTUBE_API_SERVICE_NAME = \"youtube\"\n",
    "YOUTUBE_API_VERSION = \"v3\"\n"
   ]
  },
  {
   "cell_type": "code",
   "execution_count": 23,
   "metadata": {},
   "outputs": [],
   "source": [
    "youtube = build(YOUTUBE_API_SERVICE_NAME, YOUTUBE_API_VERSION,\n",
    "    developerKey=DEVELOPER_KEY)"
   ]
  },
  {
   "cell_type": "markdown",
   "metadata": {},
   "source": [
    "list of region codes"
   ]
  },
  {
   "cell_type": "code",
   "execution_count": 24,
   "metadata": {},
   "outputs": [],
   "source": [
    "mongoDb.regionCode_ytApi_resonse.find_one()"
   ]
  },
  {
   "cell_type": "code",
   "execution_count": 25,
   "metadata": {},
   "outputs": [],
   "source": [
    "if mongoDb.topicId_gist_html.find_one():\n",
    "    html = mongoDb.topicId_gist_html.find_one()['channel_crawler_html']"
   ]
  },
  {
   "cell_type": "code",
   "execution_count": 26,
   "metadata": {},
   "outputs": [],
   "source": [
    "collection = mongoDb.regionCode_ytApi_response\n",
    "if mongoDb.regionCode_ytApi_resonse.find_one():\n",
    "    region_code_search_response = mongoDb.regionCode_ytApi_response.find_one()['region_code_ytApi_response']\n",
    "else:\n",
    "    region_code_search_response = youtube.i18nRegions().list(\n",
    "    part=\"snippet,id\"\n",
    "        \n",
    "    ).execute()\n",
    "region_code_response_dict = {'region_code_ytApi_response': region_code_search_response}\n",
    "collection.update_one({}, {'$set': region_code_response_dict}, upsert=True)\n",
    "region_code_dict_list = []\n",
    "region_codes_dict = {\"region_codes\": []}\n",
    "for item in region_code_search_response['items']:\n",
    "    region = item['snippet']['name']\n",
    "    region_code = item['snippet']['gl']\n",
    "    region_codes_dict['region_codes'].append({'region': region, 'region_code': region_code})\n",
    "    collection = mongoDb.youtube_regionCodes\n",
    "    collection.update_one({}, {'$set': region_codes_dict}, upsert=True)\n",
    "    region_code_dict_list.append({'region': region, 'region_code': region_code})\n",
    "    sqlDbSession.add(Region_Codes(region, region_code))\n",
    "    sqlDbSession.commit()\n",
    "    \n"
   ]
  },
  {
   "cell_type": "code",
   "execution_count": 27,
   "metadata": {},
   "outputs": [
    {
     "data": {
      "text/html": [
       "<div>\n",
       "<style scoped>\n",
       "    .dataframe tbody tr th:only-of-type {\n",
       "        vertical-align: middle;\n",
       "    }\n",
       "\n",
       "    .dataframe tbody tr th {\n",
       "        vertical-align: top;\n",
       "    }\n",
       "\n",
       "    .dataframe thead th {\n",
       "        text-align: right;\n",
       "    }\n",
       "</style>\n",
       "<table border=\"1\" class=\"dataframe\">\n",
       "  <thead>\n",
       "    <tr style=\"text-align: right;\">\n",
       "      <th></th>\n",
       "      <th>id</th>\n",
       "      <th>region</th>\n",
       "      <th>region_code</th>\n",
       "    </tr>\n",
       "  </thead>\n",
       "  <tbody>\n",
       "    <tr>\n",
       "      <th>0</th>\n",
       "      <td>1</td>\n",
       "      <td>Algeria</td>\n",
       "      <td>DZ</td>\n",
       "    </tr>\n",
       "    <tr>\n",
       "      <th>1</th>\n",
       "      <td>2</td>\n",
       "      <td>Argentina</td>\n",
       "      <td>AR</td>\n",
       "    </tr>\n",
       "    <tr>\n",
       "      <th>2</th>\n",
       "      <td>3</td>\n",
       "      <td>Australia</td>\n",
       "      <td>AU</td>\n",
       "    </tr>\n",
       "    <tr>\n",
       "      <th>3</th>\n",
       "      <td>4</td>\n",
       "      <td>Austria</td>\n",
       "      <td>AT</td>\n",
       "    </tr>\n",
       "    <tr>\n",
       "      <th>4</th>\n",
       "      <td>5</td>\n",
       "      <td>Azerbaijan</td>\n",
       "      <td>AZ</td>\n",
       "    </tr>\n",
       "  </tbody>\n",
       "</table>\n",
       "</div>"
      ],
      "text/plain": [
       "   id      region region_code\n",
       "0   1     Algeria          DZ\n",
       "1   2   Argentina          AR\n",
       "2   3   Australia          AU\n",
       "3   4     Austria          AT\n",
       "4   5  Azerbaijan          AZ"
      ]
     },
     "execution_count": 27,
     "metadata": {},
     "output_type": "execute_result"
    }
   ],
   "source": [
    "region_code_stmt = sqlDbSession.query(Region_Codes).statement\n",
    "region_code_df = pd.read_sql_query(region_code_stmt, con=engine)\n",
    "region_code_df.head()"
   ]
  },
  {
   "cell_type": "code",
   "execution_count": 28,
   "metadata": {},
   "outputs": [
    {
     "name": "stdout",
     "output_type": "stream",
     "text": [
      "region\n",
      "region_code\n"
     ]
    }
   ],
   "source": [
    "for key in region_code_dict_list[1]:\n",
    "    print(key)"
   ]
  },
  {
   "cell_type": "code",
   "execution_count": 29,
   "metadata": {},
   "outputs": [
    {
     "data": {
      "text/plain": [
       "'DZ'"
      ]
     },
     "execution_count": 29,
     "metadata": {},
     "output_type": "execute_result"
    }
   ],
   "source": [
    "region_code_dict_list[0][key]"
   ]
  },
  {
   "cell_type": "code",
   "execution_count": 30,
   "metadata": {},
   "outputs": [
    {
     "data": {
      "text/plain": [
       "[{'region': 'Algeria', 'region_code': 'DZ', 'categories': 0},\n",
       " {'region': 'Argentina', 'region_code': 'AR', 'categories': 1},\n",
       " {'region': 'Australia', 'region_code': 'AU', 'categories': 2},\n",
       " {'region': 'Austria', 'region_code': 'AT', 'categories': 3},\n",
       " {'region': 'Azerbaijan', 'region_code': 'AZ', 'categories': 4},\n",
       " {'region': 'Bahrain', 'region_code': 'BH', 'categories': 5},\n",
       " {'region': 'Belarus', 'region_code': 'BY', 'categories': 6},\n",
       " {'region': 'Belgium', 'region_code': 'BE', 'categories': 7},\n",
       " {'region': 'Bolivia', 'region_code': 'BO', 'categories': 8},\n",
       " {'region': 'Bosnia and Herzegovina', 'region_code': 'BA', 'categories': 9},\n",
       " {'region': 'Brazil', 'region_code': 'BR', 'categories': 10},\n",
       " {'region': 'Bulgaria', 'region_code': 'BG', 'categories': 11},\n",
       " {'region': 'Canada', 'region_code': 'CA', 'categories': 12},\n",
       " {'region': 'Chile', 'region_code': 'CL', 'categories': 13},\n",
       " {'region': 'Colombia', 'region_code': 'CO', 'categories': 14},\n",
       " {'region': 'Costa Rica', 'region_code': 'CR', 'categories': 15},\n",
       " {'region': 'Croatia', 'region_code': 'HR', 'categories': 16},\n",
       " {'region': 'Czechia', 'region_code': 'CZ', 'categories': 17},\n",
       " {'region': 'Denmark', 'region_code': 'DK', 'categories': 18},\n",
       " {'region': 'Ecuador', 'region_code': 'EC', 'categories': 19},\n",
       " {'region': 'Egypt', 'region_code': 'EG', 'categories': 20},\n",
       " {'region': 'El Salvador', 'region_code': 'SV', 'categories': 21},\n",
       " {'region': 'Estonia', 'region_code': 'EE', 'categories': 22},\n",
       " {'region': 'Finland', 'region_code': 'FI', 'categories': 23},\n",
       " {'region': 'France', 'region_code': 'FR', 'categories': 24},\n",
       " {'region': 'Georgia', 'region_code': 'GE', 'categories': 25},\n",
       " {'region': 'Germany', 'region_code': 'DE', 'categories': 26},\n",
       " {'region': 'Ghana', 'region_code': 'GH', 'categories': 27},\n",
       " {'region': 'Greece', 'region_code': 'GR', 'categories': 28},\n",
       " {'region': 'Guatemala', 'region_code': 'GT', 'categories': 29},\n",
       " {'region': 'Honduras', 'region_code': 'HN', 'categories': 30},\n",
       " {'region': 'Hong Kong', 'region_code': 'HK', 'categories': 31},\n",
       " {'region': 'Hungary', 'region_code': 'HU', 'categories': 32},\n",
       " {'region': 'Iceland', 'region_code': 'IS', 'categories': 33},\n",
       " {'region': 'India', 'region_code': 'IN', 'categories': 34},\n",
       " {'region': 'Indonesia', 'region_code': 'ID', 'categories': 35},\n",
       " {'region': 'Iraq', 'region_code': 'IQ', 'categories': 36},\n",
       " {'region': 'Ireland', 'region_code': 'IE', 'categories': 37},\n",
       " {'region': 'Israel', 'region_code': 'IL', 'categories': 38},\n",
       " {'region': 'Italy', 'region_code': 'IT', 'categories': 39},\n",
       " {'region': 'Jamaica', 'region_code': 'JM', 'categories': 40},\n",
       " {'region': 'Japan', 'region_code': 'JP', 'categories': 41},\n",
       " {'region': 'Jordan', 'region_code': 'JO', 'categories': 42},\n",
       " {'region': 'Kazakhstan', 'region_code': 'KZ', 'categories': 43},\n",
       " {'region': 'Kenya', 'region_code': 'KE', 'categories': 44},\n",
       " {'region': 'Kuwait', 'region_code': 'KW', 'categories': 45},\n",
       " {'region': 'Latvia', 'region_code': 'LV', 'categories': 46},\n",
       " {'region': 'Lebanon', 'region_code': 'LB', 'categories': 47},\n",
       " {'region': 'Libya', 'region_code': 'LY', 'categories': 48},\n",
       " {'region': 'Lithuania', 'region_code': 'LT', 'categories': 49},\n",
       " {'region': 'Luxembourg', 'region_code': 'LU', 'categories': 50},\n",
       " {'region': 'Macedonia', 'region_code': 'MK', 'categories': 51},\n",
       " {'region': 'Malaysia', 'region_code': 'MY', 'categories': 52},\n",
       " {'region': 'Malta', 'region_code': 'MT', 'categories': 53},\n",
       " {'region': 'Mexico', 'region_code': 'MX', 'categories': 54},\n",
       " {'region': 'Montenegro', 'region_code': 'ME', 'categories': 55},\n",
       " {'region': 'Morocco', 'region_code': 'MA', 'categories': 56},\n",
       " {'region': 'Nepal', 'region_code': 'NP', 'categories': 57},\n",
       " {'region': 'Netherlands', 'region_code': 'NL', 'categories': 58},\n",
       " {'region': 'New Zealand', 'region_code': 'NZ', 'categories': 59},\n",
       " {'region': 'Nicaragua', 'region_code': 'NI', 'categories': 60},\n",
       " {'region': 'Nigeria', 'region_code': 'NG', 'categories': 61},\n",
       " {'region': 'Norway', 'region_code': 'NO', 'categories': 62},\n",
       " {'region': 'Oman', 'region_code': 'OM', 'categories': 63},\n",
       " {'region': 'Pakistan', 'region_code': 'PK', 'categories': 64},\n",
       " {'region': 'Panama', 'region_code': 'PA', 'categories': 65},\n",
       " {'region': 'Peru', 'region_code': 'PE', 'categories': 66},\n",
       " {'region': 'Philippines', 'region_code': 'PH', 'categories': 67},\n",
       " {'region': 'Poland', 'region_code': 'PL', 'categories': 68},\n",
       " {'region': 'Portugal', 'region_code': 'PT', 'categories': 69},\n",
       " {'region': 'Puerto Rico', 'region_code': 'PR', 'categories': 70},\n",
       " {'region': 'Qatar', 'region_code': 'QA', 'categories': 71},\n",
       " {'region': 'Romania', 'region_code': 'RO', 'categories': 72},\n",
       " {'region': 'Russia', 'region_code': 'RU', 'categories': 73},\n",
       " {'region': 'Saudi Arabia', 'region_code': 'SA', 'categories': 74},\n",
       " {'region': 'Senegal', 'region_code': 'SN', 'categories': 75},\n",
       " {'region': 'Serbia', 'region_code': 'RS', 'categories': 76},\n",
       " {'region': 'Singapore', 'region_code': 'SG', 'categories': 77},\n",
       " {'region': 'Slovakia', 'region_code': 'SK', 'categories': 78},\n",
       " {'region': 'Slovenia', 'region_code': 'SI', 'categories': 79},\n",
       " {'region': 'South Africa', 'region_code': 'ZA', 'categories': 80},\n",
       " {'region': 'South Korea', 'region_code': 'KR', 'categories': 81},\n",
       " {'region': 'Spain', 'region_code': 'ES', 'categories': 82},\n",
       " {'region': 'Sri Lanka', 'region_code': 'LK', 'categories': 83},\n",
       " {'region': 'Sweden', 'region_code': 'SE', 'categories': 84},\n",
       " {'region': 'Switzerland', 'region_code': 'CH', 'categories': 85},\n",
       " {'region': 'Taiwan', 'region_code': 'TW', 'categories': 86},\n",
       " {'region': 'Tanzania', 'region_code': 'TZ', 'categories': 87},\n",
       " {'region': 'Thailand', 'region_code': 'TH', 'categories': 88},\n",
       " {'region': 'Tunisia', 'region_code': 'TN', 'categories': 89},\n",
       " {'region': 'Turkey', 'region_code': 'TR', 'categories': 90},\n",
       " {'region': 'Uganda', 'region_code': 'UG', 'categories': 91},\n",
       " {'region': 'Ukraine', 'region_code': 'UA', 'categories': 92},\n",
       " {'region': 'United Arab Emirates', 'region_code': 'AE', 'categories': 93},\n",
       " {'region': 'United Kingdom', 'region_code': 'GB', 'categories': 94},\n",
       " {'region': 'United States', 'region_code': 'US', 'categories': 95},\n",
       " {'region': 'Uruguay', 'region_code': 'UY', 'categories': 96},\n",
       " {'region': 'Vietnam', 'region_code': 'VN', 'categories': 97},\n",
       " {'region': 'Yemen', 'region_code': 'YE', 'categories': 98},\n",
       " {'region': 'Zimbabwe', 'region_code': 'ZW', 'categories': 99}]"
      ]
     },
     "execution_count": 30,
     "metadata": {},
     "output_type": "execute_result"
    }
   ],
   "source": [
    "for i, item in enumerate(region_code_dict_list):\n",
    "    item.setdefault('categories', {})\n",
    "    item['categories'] = i\n",
    "region_code_dict_list"
   ]
  },
  {
   "cell_type": "markdown",
   "metadata": {},
   "source": [
    "category_Id search"
   ]
  },
  {
   "cell_type": "code",
   "execution_count": 31,
   "metadata": {},
   "outputs": [],
   "source": [
    "all_region_category_list = []\n",
    "video_category_response_dict = {}\n",
    "region_categories_dict = {}\n",
    "for region in region_code_dict_list:\n",
    "    region_code = region['region_code']\n",
    "    video_category_search_response = youtube.videoCategories().list(\n",
    "        regionCode=region_code,\n",
    "        part=\"snippet,id\"\n",
    "    ).execute()\n",
    "    video_category_response_dict.setdefault(region_code, {})\n",
    "    video_category_response_dict[region_code] = video_category_search_response\n",
    "    collection = mongoDb.videoCategory_ytApi_response\n",
    "#     collection.insert_one({region_code: video_category_search_response})\n",
    "    collection.update_one({}, {'$set': video_category_response_dict}, upsert=True)\n",
    "    region_categories_dict.setdefault(region_code, [])\n",
    "    region_category_list = []\n",
    "    for item in video_category_search_response['items']:\n",
    "        category_title = item['snippet']['title']\n",
    "        category_id = item['id']\n",
    "        category_is_assignable = item['snippet']['assignable']\n",
    "        category_id_dict = {'category_title': category_title, 'category_id': category_id,\\\n",
    "                            'category_is_assignable': category_is_assignable, 'region_code': region_code}\n",
    "        region_category_list.append(category_id_dict)\n",
    "        region_categories_dict[region_code].append(category_id_dict)\n",
    "        sqlDbSession.add(Category_Ids(category_title, category_id, category_is_assignable, region_code)) \n",
    "        sqlDbSession.commit()\n",
    "        region_categories_dict[region_code].append(category_id_dict)\n",
    "    collection = mongoDb.youtube_videoCategories\n",
    "    collection.update_one({}, {'$set': region_categories_dict}, upsert=True)\n",
    "    region['categories'] = region_category_list\n",
    "    all_region_category_list.append(region_category_list)\n"
   ]
  },
  {
   "cell_type": "code",
   "execution_count": 33,
   "metadata": {},
   "outputs": [],
   "source": [
    "collection = mongoDb.videoCategory_ytApi_response\n",
    "if mongoDb.videoCategory_ytApi_response.find_one():\n",
    "#     video_category_search_response = mongoDb.video_category_search_response.find_one()['region_code_ytApi_response']\n",
    "    all_region_category_list = []\n",
    "    video_category_response_dict = {}\n",
    "    region_categories_dict = {}\n",
    "    for region in region_code_dict_list:\n",
    "        region_code = region['region_code']\n",
    "        collection = mongoDb.videoCategory_ytApi_response\n",
    "        video_category_search_response = loads(dumps(collection.find({region_code : {'$exists':True}})))\n",
    "        for response in video_category_search_response:\n",
    "            region_categories_dict.setdefault(region_code, [])\n",
    "            region_category_list = []\n",
    "            for item in response[region_code]['items']:\n",
    "                category_title = item['snippet']['title']\n",
    "                category_id = item['id']\n",
    "                category_is_assignable = item['snippet']['assignable']\n",
    "                category_id_dict = {'category_title': category_title, 'category_id': category_id,\\\n",
    "                                    'category_is_assignable': category_is_assignable, 'region_code': region_code}\n",
    "                region_category_list.append(category_id_dict)\n",
    "                region_categories_dict[region_code].append(category_id_dict)\n",
    "                sqlDbSession.add(Category_Ids(category_title, category_id, category_is_assignable, region_code)) \n",
    "                sqlDbSession.commit()\n",
    "                region_categories_dict[region_code].append(category_id_dict)\n",
    "            collection = mongoDb.youtube_videoCategories\n",
    "            collection.update_one({}, {'$set': region_categories_dict}, upsert=True)\n",
    "            region['categories'] = region_category_list\n",
    "            all_region_category_list.append(region_category_list)\n",
    "else:\n",
    "    all_region_category_list = []\n",
    "    video_category_response_dict = {}\n",
    "    region_categories_dict = {}\n",
    "    for region in region_code_dict_list:\n",
    "        region_code = region['region_code']\n",
    "        video_category_search_response = youtube.videoCategories().list(\n",
    "            regionCode=region_code,\n",
    "            part=\"snippet,id\"\n",
    "        ).execute()\n",
    "        video_category_response_dict.setdefault(region_code, {})\n",
    "        video_category_response_dict[region_code] = video_category_search_response\n",
    "        collection = mongoDb.videoCategory_ytApi_response\n",
    "    #     collection.insert_one({region_code: video_category_search_response})\n",
    "        collection.update_one({}, {'$set': video_category_response_dict}, upsert=True)\n",
    "        region_categories_dict.setdefault(region_code, [])\n",
    "        region_category_list = []\n",
    "        for item in video_category_search_response['items']:\n",
    "            category_title = item['snippet']['title']\n",
    "            category_id = item['id']\n",
    "            category_is_assignable = item['snippet']['assignable']\n",
    "            category_id_dict = {'category_title': category_title, 'category_id': category_id,\\\n",
    "                                'category_is_assignable': category_is_assignable, 'region_code': region_code}\n",
    "            region_category_list.append(category_id_dict)\n",
    "            region_categories_dict[region_code].append(category_id_dict)\n",
    "            sqlDbSession.add(Category_Ids(category_title, category_id, category_is_assignable, region_code)) \n",
    "            sqlDbSession.commit()\n",
    "            region_categories_dict[region_code].append(category_id_dict)\n",
    "        collection = mongoDb.youtube_videoCategories\n",
    "        collection.update_one({}, {'$set': region_categories_dict}, upsert=True)\n",
    "        region['categories'] = region_category_list\n",
    "        all_region_category_list.append(region_category_list)\n"
   ]
  },
  {
   "cell_type": "code",
   "execution_count": null,
   "metadata": {},
   "outputs": [],
   "source": [
    "for item in video_category_search_response['items']:\n",
    "    print(item)"
   ]
  },
  {
   "cell_type": "code",
   "execution_count": null,
   "metadata": {},
   "outputs": [],
   "source": [
    "code = \"DZ\"\n",
    "collection = mongoDb.videoCategory_ytApi_response\n",
    "this = collection.find({code : {'$exists':True}})\n",
    "dump = dumps(this)\n",
    "load = loads(dump)\n",
    "# load[0]['DZ']['items']\n",
    "load"
   ]
  },
  {
   "cell_type": "code",
   "execution_count": null,
   "metadata": {},
   "outputs": [],
   "source": []
  },
  {
   "cell_type": "code",
   "execution_count": null,
   "metadata": {},
   "outputs": [],
   "source": []
  },
  {
   "cell_type": "code",
   "execution_count": null,
   "metadata": {},
   "outputs": [],
   "source": []
  },
  {
   "cell_type": "code",
   "execution_count": null,
   "metadata": {},
   "outputs": [],
   "source": [
    "categoryKeys = []\n",
    "for k, v in video_category_search_response['items'][0]['snippet'].items():\n",
    "    categoryKeys.append(k)\n",
    "categoryKeys = categoryKeys\n",
    "categoryKeys"
   ]
  },
  {
   "cell_type": "code",
   "execution_count": null,
   "metadata": {},
   "outputs": [],
   "source": []
  },
  {
   "cell_type": "code",
   "execution_count": null,
   "metadata": {},
   "outputs": [],
   "source": [
    "\n",
    "for item in video_category_search_response['items']:\n",
    "    print(f\"id: {item['id']}\")\n",
    "    print(f\"  title: {item['snippet']['title']}\")\n",
    "    print(f\"  assignable: {item['snippet']['assignable']}\")\n",
    "    print(\"========\")\n",
    "    "
   ]
  },
  {
   "cell_type": "code",
   "execution_count": null,
   "metadata": {},
   "outputs": [],
   "source": [
    "sqlDbSession.close()"
   ]
  }
 ],
 "metadata": {
  "kernelspec": {
   "display_name": "Python [conda env:PythonData]",
   "language": "python",
   "name": "conda-env-PythonData-py"
  },
  "language_info": {
   "codemirror_mode": {
    "name": "ipython",
    "version": 3
   },
   "file_extension": ".py",
   "mimetype": "text/x-python",
   "name": "python",
   "nbconvert_exporter": "python",
   "pygments_lexer": "ipython3",
   "version": "3.6.6"
  }
 },
 "nbformat": 4,
 "nbformat_minor": 2
}
