{
 "cells": [
  {
   "cell_type": "code",
   "execution_count": null,
   "metadata": {},
   "outputs": [],
   "source": [
    "import os\n",
    "\n",
    "import pymongo\n",
    "\n",
    "from splinter import Browser\n",
    "from bs4 import BeautifulSoup as bs\n",
    "from selenium import webdriver\n",
    "from selenium.webdriver.support.ui import Select\n",
    "\n",
    "import pandas as pd\n",
    "\n",
    "import re\n",
    "from pprint import pprint\n",
    "from datetime import datetime\n",
    "import time\n",
    "\n",
    "import sqlalchemy\n",
    "from sqlalchemy import create_engine, MetaData\n",
    "from sqlalchemy.ext.declarative import declarative_base\n",
    "from sqlalchemy import Column, Integer, String, Numeric, Text, Float, ForeignKey, Date, DateTime, Boolean, BigInteger\n",
    "from sqlalchemy.orm import sessionmaker, relationship\n",
    "from sqlalchemy import inspect\n",
    "\n"
   ]
  },
  {
   "cell_type": "code",
   "execution_count": null,
   "metadata": {},
   "outputs": [],
   "source": [
    "conn = 'mongodb://localhost:27017'\n",
    "client = pymongo.MongoClient(conn)\n",
    "mongoDb = client.youtube\n",
    "#   collection.insert_one(test_programs)\n",
    "#   collection = db[program_name]\n",
    "#   collection.update_one({}, {'$set': kdhx_dict}, upsert=True)\n"
   ]
  },
  {
   "cell_type": "code",
   "execution_count": null,
   "metadata": {},
   "outputs": [],
   "source": [
    "rds_connection_string = \"root:Password@127.0.0.1\"\n",
    "engine = create_engine(f'mysql://{rds_connection_string}')\n",
    "engine.execute('CREATE DATABASE IF NOT EXISTS youtube_db')\n",
    "engine.execute('USE youtube_db')\n",
    "Base = declarative_base()\n"
   ]
  },
  {
   "cell_type": "code",
   "execution_count": null,
   "metadata": {},
   "outputs": [],
   "source": [
    "class Category_Ids(Base):\n",
    "    __tablename__ = 'category_ids'\n",
    "    id = Column(Integer, primary_key=True)\n",
    "    category_name = Column(String(256))\n",
    "    category_id = Column(String(256))\n",
    "    \n",
    "    def __init__(self, category_name, category_id):\n",
    "        self.category_name = category_name\n",
    "        self.category_id = category_id\n",
    "        \n",
    "        \n",
    "    def __repr__(self):\n",
    "        return f\"id={self.id}, category_name={self.category_name}, category_id={category_id}\""
   ]
  },
  {
   "cell_type": "code",
   "execution_count": null,
   "metadata": {},
   "outputs": [],
   "source": [
    "class Topic_Ids(Base):\n",
    "    __tablename__ = 'topic_ids'\n",
    "    id = Column(Integer, primary_key=True)\n",
    "    topic_name = Column(String(256))\n",
    "    topic_id = Column(String(256))\n",
    "    \n",
    "    def __init__(self, topic_name):\n",
    "        self.topic_name = topic_name\n",
    "        self.topic_id = topic_id\n",
    "        \n",
    "    def __repr__(self):\n",
    "        return f\"id={self.id}, topic_name={self.topic_name} topic_id={topic_id}\""
   ]
  },
  {
   "cell_type": "code",
   "execution_count": null,
   "metadata": {},
   "outputs": [],
   "source": [
    "class Channel(Base):\n",
    "    __tablename__ = 'channels'\n",
    "    id = Column(Integer, primary_key=True)\n",
    "    topic_ids_table_id = Column(Integer, ForeignKey('topic_ids.id'))\n",
    "    channel_title = Column(String(256))\n",
    "    channel_url = Column(String(256))\n",
    "    channel_id = Column(String(256))\n",
    "    subscribers = Column(BigInteger)\n",
    "    video_count = Column(Integer)\n",
    "    view_count = Column(BigInteger)\n",
    "    country = Column(String(256))\n",
    "    join_date = Column(Date)\n",
    "    topic_ids = Column(String(256))\n",
    "    cc_category = Column(String(256))\n",
    "    thumbnail_url = Column(String(256))\n",
    "    \n",
    "    def __init__(self, topic_ids_table_id, channel_title, channel_url, channel_id, subscribers,\\\n",
    "                 video_count, view_count, country, join_date, topic_ids, cc_category, thumbnail_url):\n",
    "        self.topic_ids_table_id = topic_ids_table_id\n",
    "        self.channel_title = channel_title\n",
    "        self.channel_url = channel_url\n",
    "        self.channel_id = channel_id\n",
    "        self.subscribers = subscribers\n",
    "        self.video_count = video_count\n",
    "        self.view_count = view_count\n",
    "        self.country = country\n",
    "        self.join_date = join_date\n",
    "        self.join_dto = join_dto\n",
    "        self.topic_ids = topic_ids\n",
    "        self.cc_category = cc_category\n",
    "        self.thumbnail_url = thumbnail_url\n",
    "        \n",
    "        \n",
    "    def __repr__(self):\n",
    "        return f\"id={self.id}, channel_title={self.channel_title}, url={self.channel_url}\""
   ]
  },
  {
   "cell_type": "code",
   "execution_count": null,
   "metadata": {},
   "outputs": [],
   "source": [
    "class Videos(Base):\n",
    "    __tablename__ = 'videos'\n",
    "    id = Column(Integer, primary_key=True)\n",
    "    channels_table_id = Column(Integer, ForeignKey('channels.id'))\n",
    "    topic_ids_table_id = Column(Integer, ForeignKey('topic_ids.id'))\n",
    "    category_ids_table_id = Column(Integer, ForeignKey('category_ids.id'))\n",
    "    video_title = Column(String(256))\n",
    "    view_count = Column(BigInteger)\n",
    "    duration = Column(Integer) # https://stackoverflow.com/questions/15596753/how-do-i-get-video-durations-with-youtube-api-version-3\n",
    "    like_count = Column(Integer)\n",
    "    dislike_count = Column(Integer)\n",
    "    favorite_count = Column(Integer)\n",
    "    comment_count = Column(Integer)\n",
    "    published_at = Column(DateTime)\n",
    "    published_at_dto = Column(DateTime)\n",
    "    tags = Column(String(256))\n",
    "    dimension = Column(String(256))\n",
    "    definition = Column(String(256))\n",
    "    caption = Column(Boolean)\n",
    "    licensedContent = Column(Boolean)\n",
    "    license = Column(String(256))\n",
    "    \n",
    "    def __init__(self, channels_table_id, topic_ids_table_id, category_ids_table_id, video_title, view_count, duration,\\\n",
    "                 like_count, dislike_count, favorite_count, comment_count, published_at, published_at_dto, tags, dimension,\\\n",
    "                 definition, caption, licensedContent, license):\n",
    "        self.channels_table_id = channels_table_id\n",
    "        self.topic_ids_table_id = topic_ids_table_id\n",
    "        self.category_ids_table_id = category_ids_table_id\n",
    "        self.video_title = video_title\n",
    "        self.view_count = view_count\n",
    "        self.duration = duration\n",
    "        self.like_count = like_count\n",
    "        self.dislike_count = dislike_count\n",
    "        self.favorite_count = favorite_count\n",
    "        self.comment_count = comment_count\n",
    "        self.published_at = published_at\n",
    "        self.published_at_dto = published_at_dto\n",
    "        self.tags = tags\n",
    "        self.dimension = topic_ids\n",
    "        self.definition = definition\n",
    "        self.caption = caption\n",
    "        self.licensedContent = licensedContent\n",
    "        self.license = license\n",
    "        \n",
    "        \n",
    "    def __repr__(self):\n",
    "        return f\"id={self.id}, video_title={self.video_title}, view_count={self.view_count}\""
   ]
  },
  {
   "cell_type": "code",
   "execution_count": null,
   "metadata": {},
   "outputs": [],
   "source": [
    "Session = sessionmaker(bind=engine)\n",
    "sqlDb = Session()"
   ]
  },
  {
   "cell_type": "code",
   "execution_count": null,
   "metadata": {},
   "outputs": [],
   "source": [
    "# Create a \"Metadata\" Layer That Abstracts our SQL Database\n",
    "# ----------------------------------\n",
    "Base.metadata.create_all(engine)\n",
    "\n",
    "# Use this to clear out the db\n",
    "# ----------------------------------\n",
    "# Base.metadata.drop_all(engine)"
   ]
  },
  {
   "cell_type": "code",
   "execution_count": null,
   "metadata": {},
   "outputs": [],
   "source": [
    "executable_path = {'executable_path': '/Users/soria/Anaconda3/Scripts/chromedriver'}\n",
    "browser = Browser('chrome', **executable_path)\n"
   ]
  },
  {
   "cell_type": "code",
   "execution_count": null,
   "metadata": {},
   "outputs": [],
   "source": [
    "url = \"http://www.channelcrawler.com/eng\"\n",
    "browser.visit(url)\n",
    "browser.is_element_present_by_css(\"input#queryMinSubs\", wait_time=1)\n",
    "html = browser.html\n"
   ]
  },
  {
   "cell_type": "code",
   "execution_count": null,
   "metadata": {},
   "outputs": [],
   "source": [
    "\n",
    "minSubs = 10000000\n",
    "driver = webdriver.Chrome()\n",
    "driver.get(url)\n",
    "sbox = driver.find_element_by_id('queryMinSubs')\n",
    "sbox.send_keys(minSubs)\n",
    "submit = driver.find_element_by_class_name('submitbutton')\n",
    "submit.click()\n"
   ]
  },
  {
   "cell_type": "code",
   "execution_count": null,
   "metadata": {},
   "outputs": [],
   "source": [
    "select = Select(driver.find_element_by_id('sort-select'))\n",
    "select.select_by_visible_text('Subscribers (descending)')"
   ]
  },
  {
   "cell_type": "code",
   "execution_count": null,
   "metadata": {},
   "outputs": [],
   "source": [
    "html = driver.page_source\n",
    "channel_soup = bs(html, 'html.parser')\n",
    "channel_divs = channel_soup.find_all('div', class_=\"channel\")"
   ]
  },
  {
   "cell_type": "code",
   "execution_count": null,
   "metadata": {},
   "outputs": [],
   "source": [
    "\n",
    "list_10M_subs = []\n",
    "next_button = driver.find_element_by_css_selector(\"a[rel='next']\")\n",
    "while next_button:\n",
    "    html = driver.page_source\n",
    "    collection = mongoDb.channel_crawler_html\n",
    "    this_dict = {'channel_crawler_url': driver.current_url, 'channel_crawler_html':html}\n",
    "    collection.insert_one(this_dict)\n",
    "    channel_soup = bs(html, 'html.parser')\n",
    "    channel_divs = channel_soup.find_all('div', class_=\"channel\")\n",
    "    for channel in channel_divs:\n",
    "        collection = mongoDb.channel_crawler_data\n",
    "        channel_dict = {}\n",
    "        title_anchor = channel.find('a')\n",
    "        try:\n",
    "            country = channel.find('img')['title']\n",
    "        except:\n",
    "            country = ''\n",
    "        smalls = channel.find_all('small')\n",
    "        cc_category = smalls[0].get_text()\n",
    "        small_text = smalls[1].get_text()\n",
    "        subscribers = re.search(r'.+?(?=Subs)', small_text).group(0)\n",
    "        subscribers = re.sub(r'\\t', '', subscribers).strip()\n",
    "        subscribers = int(re.sub(r',', '', subscribers))\n",
    "        video_count = re.search(r'.+?(?=Video)', small_text).group(0) \n",
    "        video_count = re.sub(r'\\t', '', video_count).strip()\n",
    "        join_date = videos = re.search(r'(?<=Join Date:\\s).*', small_text).group(0)\n",
    "        join_date = re.sub(r'\\t', '', join_date)\n",
    "        try:\n",
    "            join_dto = datetime.strptime(join_date, '%d.%m.%Y')\n",
    "        except:\n",
    "            join_dto = ''\n",
    "        topic_ids_table_id = None\n",
    "        channel_dict['topic_ids_table_id'] = topic_ids_table_id\n",
    "        channel_title = title_anchor['title']\n",
    "        channel_dict['channel_title'] = channel_title\n",
    "        channel_url = title_anchor['href']\n",
    "        channel_dict['channel_url'] = channel_url\n",
    "        channel_id = re.search(r'(?<=channel/).*', channel_url).group(0)\n",
    "        channel_dict['channel_id'] = channel_id\n",
    "        channel_dict['subscribers'] = subscribers\n",
    "        channel_dict['video_count'] = video_count\n",
    "        view_count = None\n",
    "        channel_dict['view_count'] = view_count\n",
    "        channel_dict['country'] = country\n",
    "        channel_dict['join_date'] = join_date        \n",
    "        channel_dict['join_dto'] = join_dto\n",
    "        topic_ids = None\n",
    "        channel_dict['topic_ids'] = topic_ids\n",
    "        channel_dict['cc_category'] = cc_category\n",
    "        anchors = channel.find_all('a')\n",
    "        thumbnail_url = anchors[1].find('img')['src']\n",
    "        channel_dict['thumbnail_url'] = thumbnail_url\n",
    "        list_10M_subs.append(channel_dict)\n",
    "        collection.insert_one(channel_dict)\n",
    "        sqlDb.add(Channel(topic_ids_table_id, channel_title, channel_url, channel_id, subscribers,\\\n",
    "                 video_count, view_count, country, join_date, topic_ids, cc_category, thumbnail_url))\n",
    "        sqlDb.commit()\n",
    "    try:\n",
    "        next_button = driver.find_element_by_css_selector(\"a[rel='next']\")\n",
    "        next_button.click()\n",
    "    except:\n",
    "        break\n",
    "    time.sleep(1)\n"
   ]
  },
  {
   "cell_type": "code",
   "execution_count": null,
   "metadata": {},
   "outputs": [],
   "source": [
    "subscribers"
   ]
  },
  {
   "cell_type": "code",
   "execution_count": null,
   "metadata": {},
   "outputs": [],
   "source": [
    "list_10M_subs"
   ]
  }
 ],
 "metadata": {
  "kernelspec": {
   "display_name": "Python [conda env:PythonData]",
   "language": "python",
   "name": "conda-env-PythonData-py"
  },
  "language_info": {
   "codemirror_mode": {
    "name": "ipython",
    "version": 3
   },
   "file_extension": ".py",
   "mimetype": "text/x-python",
   "name": "python",
   "nbconvert_exporter": "python",
   "pygments_lexer": "ipython3",
   "version": "3.6.6"
  }
 },
 "nbformat": 4,
 "nbformat_minor": 2
}
