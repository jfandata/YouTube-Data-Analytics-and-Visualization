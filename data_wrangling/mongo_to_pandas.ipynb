{
 "cells": [
  {
   "cell_type": "code",
   "execution_count": 2,
   "metadata": {},
   "outputs": [],
   "source": [
    "import os\n",
    "import sys\n",
    "sys.path.append('C:\\\\Users\\\\soria\\\\Documents\\\\WashUDataDocuments\\\\HwActivites\\\\YouTube_Project\\\\')\n",
    "\n",
    "import pandas as pd\n",
    "\n",
    "from pprint import pprint\n",
    "\n",
    "import pymongo\n",
    "\n",
    "import json\n",
    "\n",
    "from bson.json_util import dumps, loads\n",
    "\n",
    "import re\n",
    "\n",
    "from datetime import datetime\n",
    "\n",
    "import time"
   ]
  },
  {
   "cell_type": "code",
   "execution_count": 5,
   "metadata": {},
   "outputs": [
    {
     "data": {
      "text/plain": [
       "'C:\\\\Users\\\\soria\\\\Documents\\\\WashUDataDocuments\\\\HwActivites\\\\YouTube_Project\\\\YouTube-Data-Analytics-and-Visualization\\\\data_wrangling'"
      ]
     },
     "execution_count": 5,
     "metadata": {},
     "output_type": "execute_result"
    }
   ],
   "source": [
    "os.getcwd()"
   ]
  },
  {
   "cell_type": "code",
   "execution_count": 2,
   "metadata": {},
   "outputs": [],
   "source": [
    "conn = 'mongodb://localhost:27017'\n",
    "client = pymongo.MongoClient(conn)\n",
    "mongoDb = client.social_blade\n"
   ]
  },
  {
   "cell_type": "code",
   "execution_count": 4,
   "metadata": {},
   "outputs": [],
   "source": [
    "collection = mongoDb.social_blade_asmr_data"
   ]
  },
  {
   "cell_type": "code",
   "execution_count": null,
   "metadata": {},
   "outputs": [],
   "source": [
    "html = loads(dumps(collection.find({channel : {'$exists':True}})))[0][channel]"
   ]
  },
  {
   "cell_type": "code",
   "execution_count": 4,
   "metadata": {},
   "outputs": [],
   "source": [
    "\n",
    "with open('sb_asmr_data.json') as data_file:    \n",
    "    data = json.load(data_file)"
   ]
  },
  {
   "cell_type": "code",
   "execution_count": 5,
   "metadata": {},
   "outputs": [
    {
     "data": {
      "text/plain": [
       "dict_keys(['_id', 'ASMRKittyKlaw', 'GibiASMR', 'GentleWhisperingASMR', 'ASMRDarling', 'ASMRGlow', 'FrivolousFox', 'WhispersRedASMR', 'ASMRPPOMO', 'PelageaASMR', 'GoodnightMoon', 'MassageASMR', 'EphermalRift', 'KarunaSatori', 'RaffyTaphyASMR', 'FastASMR', 'ASMRrequests', 'SAS-ASMR', 'Softlygaloshes', 'HeatherFeatherASMR', 'FairyCharASMR', 'PJDreams', 'LatteASMR', 'DrTASMR', 'ASMRSurge', 'GwenGwiz', 'RapunzelASMR', 'CherryCrush', 'DanaASMR', 'OliviaKissperASMR', 'CosmicTinglesASMR', 'MissASMR', 'Angelica', 'TheOneLiliumASMR', 'SpringbokASMR', 'MarnoASMR', 'ASMRTheChew', 'FredsVoiceASMR', 'TirarADeguello', 'LauraLemurexASMR', 'SensorAdiASMR', 'TingleBelle', 'TonyBomboniASMR', 'HermeticKitten', 'SleepyTinglesASMR', 'ArticulateDesignASMR', 'Cloveress', 'ASMRSoundSpace', 'MiniyuASMR', 'ChristenNoelASMR', 'SassEsnacks', 'JASMR', 'Bluewhisper', 'suellASMR', 'ASMRctica', 'SouthernASMRSounds', 'TingTingASMR', 'CreativeCalmASMR', 'ScottishMurmurs', 'LetsFindOutASMR', 'FrivolousFoxASMR', 'JojosAsmr', 'EphemeralRift', 'KarunaSatoriASMR', 'fastASMR', 'softlygaloshes'])"
      ]
     },
     "execution_count": 5,
     "metadata": {},
     "output_type": "execute_result"
    }
   ],
   "source": [
    "data.keys()"
   ]
  },
  {
   "cell_type": "code",
   "execution_count": 6,
   "metadata": {},
   "outputs": [],
   "source": [
    "channels = ['ASMRKittyKlaw', 'GibiASMR', 'GentleWhisperingASMR', 'ASMRDarling', 'ASMRGlow', 'FrivolousFox', 'WhispersRedASMR', 'ASMRPPOMO', 'PelageaASMR', 'GoodnightMoon', 'MassageASMR', 'EphermalRift', 'KarunaSatori', 'RaffyTaphyASMR', 'FastASMR', 'ASMRrequests', 'SAS-ASMR', 'Softlygaloshes', 'HeatherFeatherASMR', 'FairyCharASMR', 'PJDreams', 'LatteASMR', 'DrTASMR', 'ASMRSurge', 'GwenGwiz', 'RapunzelASMR', 'CherryCrush', 'DanaASMR', 'OliviaKissperASMR', 'CosmicTinglesASMR', 'MissASMR', 'Angelica', 'TheOneLiliumASMR', 'SpringbokASMR', 'MarnoASMR', 'ASMRTheChew', 'FredsVoiceASMR', 'TirarADeguello', 'LauraLemurexASMR', 'SensorAdiASMR', 'TingleBelle', 'TonyBomboniASMR', 'HermeticKitten', 'SleepyTinglesASMR', 'ArticulateDesignASMR', 'Cloveress', 'ASMRSoundSpace', 'MiniyuASMR', 'ChristenNoelASMR', 'SassEsnacks', 'JASMR', 'Bluewhisper', 'suellASMR', 'ASMRctica', 'SouthernASMRSounds', 'TingTingASMR', 'CreativeCalmASMR', 'ScottishMurmurs', 'LetsFindOutASMR', 'FrivolousFoxASMR', 'JojosAsmr', 'EphemeralRift', 'KarunaSatoriASMR', 'fastASMR', 'softlygaloshes']"
   ]
  },
  {
   "cell_type": "code",
   "execution_count": null,
   "metadata": {},
   "outputs": [],
   "source": []
  },
  {
   "cell_type": "code",
   "execution_count": 45,
   "metadata": {},
   "outputs": [
    {
     "data": {
      "text/html": [
       "<div>\n",
       "<style scoped>\n",
       "    .dataframe tbody tr th:only-of-type {\n",
       "        vertical-align: middle;\n",
       "    }\n",
       "\n",
       "    .dataframe tbody tr th {\n",
       "        vertical-align: top;\n",
       "    }\n",
       "\n",
       "    .dataframe thead th {\n",
       "        text-align: right;\n",
       "    }\n",
       "</style>\n",
       "<table border=\"1\" class=\"dataframe\">\n",
       "  <thead>\n",
       "    <tr style=\"text-align: right;\">\n",
       "      <th></th>\n",
       "      <th>channel_name</th>\n",
       "      <th>channel_id</th>\n",
       "      <th>uploads</th>\n",
       "      <th>subs</th>\n",
       "      <th>views</th>\n",
       "      <th>country</th>\n",
       "      <th>channel_type</th>\n",
       "      <th>date_created</th>\n",
       "    </tr>\n",
       "  </thead>\n",
       "  <tbody>\n",
       "    <tr>\n",
       "      <th>0</th>\n",
       "      <td>None</td>\n",
       "      <td>None</td>\n",
       "      <td>None</td>\n",
       "      <td>None</td>\n",
       "      <td>None</td>\n",
       "      <td>None</td>\n",
       "      <td>None</td>\n",
       "      <td>None</td>\n",
       "    </tr>\n",
       "    <tr>\n",
       "      <th>1</th>\n",
       "      <td>None</td>\n",
       "      <td>None</td>\n",
       "      <td>None</td>\n",
       "      <td>None</td>\n",
       "      <td>None</td>\n",
       "      <td>None</td>\n",
       "      <td>None</td>\n",
       "      <td>None</td>\n",
       "    </tr>\n",
       "    <tr>\n",
       "      <th>2</th>\n",
       "      <td>None</td>\n",
       "      <td>None</td>\n",
       "      <td>None</td>\n",
       "      <td>None</td>\n",
       "      <td>None</td>\n",
       "      <td>None</td>\n",
       "      <td>None</td>\n",
       "      <td>None</td>\n",
       "    </tr>\n",
       "    <tr>\n",
       "      <th>3</th>\n",
       "      <td>None</td>\n",
       "      <td>None</td>\n",
       "      <td>None</td>\n",
       "      <td>None</td>\n",
       "      <td>None</td>\n",
       "      <td>None</td>\n",
       "      <td>None</td>\n",
       "      <td>None</td>\n",
       "    </tr>\n",
       "    <tr>\n",
       "      <th>4</th>\n",
       "      <td>None</td>\n",
       "      <td>None</td>\n",
       "      <td>None</td>\n",
       "      <td>None</td>\n",
       "      <td>None</td>\n",
       "      <td>None</td>\n",
       "      <td>None</td>\n",
       "      <td>None</td>\n",
       "    </tr>\n",
       "  </tbody>\n",
       "</table>\n",
       "</div>"
      ],
      "text/plain": [
       "  channel_name channel_id uploads  subs views country channel_type  \\\n",
       "0         None       None    None  None  None    None         None   \n",
       "1         None       None    None  None  None    None         None   \n",
       "2         None       None    None  None  None    None         None   \n",
       "3         None       None    None  None  None    None         None   \n",
       "4         None       None    None  None  None    None         None   \n",
       "\n",
       "  date_created  \n",
       "0         None  \n",
       "1         None  \n",
       "2         None  \n",
       "3         None  \n",
       "4         None  "
      ]
     },
     "execution_count": 45,
     "metadata": {},
     "output_type": "execute_result"
    }
   ],
   "source": [
    "sb_asmr_df = pd.DataFrame({\n",
    "    'channel_name':[None] * len(channels),\n",
    "    'channel_id': [None] * len(channels),\n",
    "    'uploads': [None] * len(channels),\n",
    "    'subs': [None] * len(channels),\n",
    "    'views': [None] * len(channels),\n",
    "    'country': [None] * len(channels),\n",
    "    'channel_type': [None] * len(channels),\n",
    "    'date_created': [None] * len(channels)\n",
    "#     'time_series': [None] * len(channels)\n",
    "})\n",
    "sb_asmr_df.head()"
   ]
  },
  {
   "cell_type": "code",
   "execution_count": 14,
   "metadata": {},
   "outputs": [
    {
     "data": {
      "text/plain": [
       "Index(['channel_name', 'channel_id', 'uploads', 'subs', 'views', 'country',\n",
       "       'channel_type', 'date_created', 'time_series'],\n",
       "      dtype='object')"
      ]
     },
     "execution_count": 14,
     "metadata": {},
     "output_type": "execute_result"
    }
   ],
   "source": [
    "sb_asmr_df.columns"
   ]
  },
  {
   "cell_type": "code",
   "execution_count": 46,
   "metadata": {},
   "outputs": [],
   "source": [
    "sb_asmr_dict = {\n",
    "    'channel_name': [],\n",
    "    'channel_id': [],\n",
    "    'uploads': [],\n",
    "    'subs':[],\n",
    "    'views':[],\n",
    "    'country':[],\n",
    "    'channel_type':[],\n",
    "    'date_created':[]\n",
    "#     'time_series':[],\n",
    "}"
   ]
  },
  {
   "cell_type": "code",
   "execution_count": 15,
   "metadata": {},
   "outputs": [],
   "source": [
    "columns = ['channel_name', 'channel_id', 'uploads', 'subs', 'views', 'country',\n",
    "       'channel_type', 'date_created', 'time_series']"
   ]
  },
  {
   "cell_type": "code",
   "execution_count": 44,
   "metadata": {},
   "outputs": [],
   "source": [
    "# sb_asmr_dict[columns[0]].append('xyz')\n",
    "# sb_asmr_dict"
   ]
  },
  {
   "cell_type": "code",
   "execution_count": 47,
   "metadata": {},
   "outputs": [],
   "source": [
    "for channel in channels:\n",
    "    sb_asmr_dict[columns[0]].append(data[channel][columns[0]])\n",
    "    sb_asmr_dict[columns[1]].append(data[channel][columns[1]])\n",
    "    sb_asmr_dict[columns[2]].append(data[channel][columns[2]])\n",
    "    sb_asmr_dict[columns[3]].append(data[channel][columns[3]])\n",
    "    sb_asmr_dict[columns[4]].append(data[channel][columns[4]])\n",
    "    sb_asmr_dict[columns[5]].append(data[channel][columns[5]])\n",
    "    sb_asmr_dict[columns[6]].append(data[channel][columns[6]])\n",
    "    sb_asmr_dict[columns[7]].append(data[channel][columns[7]])\n",
    "#     sb_asmr_dict[columns[8]].append(data[channel][columns[8]])"
   ]
  },
  {
   "cell_type": "code",
   "execution_count": 48,
   "metadata": {},
   "outputs": [
    {
     "data": {
      "text/html": [
       "<div>\n",
       "<style scoped>\n",
       "    .dataframe tbody tr th:only-of-type {\n",
       "        vertical-align: middle;\n",
       "    }\n",
       "\n",
       "    .dataframe tbody tr th {\n",
       "        vertical-align: top;\n",
       "    }\n",
       "\n",
       "    .dataframe thead th {\n",
       "        text-align: right;\n",
       "    }\n",
       "</style>\n",
       "<table border=\"1\" class=\"dataframe\">\n",
       "  <thead>\n",
       "    <tr style=\"text-align: right;\">\n",
       "      <th></th>\n",
       "      <th>channel_name</th>\n",
       "      <th>channel_id</th>\n",
       "      <th>uploads</th>\n",
       "      <th>subs</th>\n",
       "      <th>views</th>\n",
       "      <th>country</th>\n",
       "      <th>channel_type</th>\n",
       "      <th>date_created</th>\n",
       "    </tr>\n",
       "  </thead>\n",
       "  <tbody>\n",
       "    <tr>\n",
       "      <th>0</th>\n",
       "      <td>ASMR KittyKlaw</td>\n",
       "      <td>UCo-gAYrvd7WIrCRsNueddtQ</td>\n",
       "      <td>184</td>\n",
       "      <td>888117</td>\n",
       "      <td>141473823</td>\n",
       "      <td></td>\n",
       "      <td>people</td>\n",
       "      <td>Aug 14th, 2015</td>\n",
       "    </tr>\n",
       "    <tr>\n",
       "      <th>1</th>\n",
       "      <td>Gibi ASMR</td>\n",
       "      <td>UCE6acMV3m35znLcf0JGNn7Q</td>\n",
       "      <td>373</td>\n",
       "      <td>1686824</td>\n",
       "      <td>429478130</td>\n",
       "      <td>US</td>\n",
       "      <td>entertainment</td>\n",
       "      <td>Jun 19th, 2016</td>\n",
       "    </tr>\n",
       "    <tr>\n",
       "      <th>2</th>\n",
       "      <td>Gentle Whispering ASMR</td>\n",
       "      <td>UC6gLlIAnzg7eJ8VuXDCZ_vg</td>\n",
       "      <td>393</td>\n",
       "      <td>1617552</td>\n",
       "      <td>578319406</td>\n",
       "      <td>US</td>\n",
       "      <td>entertainment</td>\n",
       "      <td>Feb 24th, 2011</td>\n",
       "    </tr>\n",
       "    <tr>\n",
       "      <th>3</th>\n",
       "      <td>ASMR Darling</td>\n",
       "      <td>UCikebqFWoT3QC9axUbXCPYw</td>\n",
       "      <td>153</td>\n",
       "      <td>2251401</td>\n",
       "      <td>418040979</td>\n",
       "      <td>US</td>\n",
       "      <td>entertainment</td>\n",
       "      <td>Dec 11th, 2014</td>\n",
       "    </tr>\n",
       "    <tr>\n",
       "      <th>4</th>\n",
       "      <td>ASMR Glow</td>\n",
       "      <td>UCFmL725KKPx2URVPvH3Gp8w</td>\n",
       "      <td>157</td>\n",
       "      <td>723979</td>\n",
       "      <td>119940003</td>\n",
       "      <td></td>\n",
       "      <td>people</td>\n",
       "      <td>Oct 24th, 2016</td>\n",
       "    </tr>\n",
       "  </tbody>\n",
       "</table>\n",
       "</div>"
      ],
      "text/plain": [
       "             channel_name                channel_id uploads     subs  \\\n",
       "0          ASMR KittyKlaw  UCo-gAYrvd7WIrCRsNueddtQ     184   888117   \n",
       "1               Gibi ASMR  UCE6acMV3m35znLcf0JGNn7Q     373  1686824   \n",
       "2  Gentle Whispering ASMR  UC6gLlIAnzg7eJ8VuXDCZ_vg     393  1617552   \n",
       "3            ASMR Darling  UCikebqFWoT3QC9axUbXCPYw     153  2251401   \n",
       "4               ASMR Glow  UCFmL725KKPx2URVPvH3Gp8w     157   723979   \n",
       "\n",
       "       views country   channel_type    date_created  \n",
       "0  141473823                 people  Aug 14th, 2015  \n",
       "1  429478130      US  entertainment  Jun 19th, 2016  \n",
       "2  578319406      US  entertainment  Feb 24th, 2011  \n",
       "3  418040979      US  entertainment  Dec 11th, 2014  \n",
       "4  119940003                 people  Oct 24th, 2016  "
      ]
     },
     "execution_count": 48,
     "metadata": {},
     "output_type": "execute_result"
    }
   ],
   "source": [
    "sb_asmr_df = pd.DataFrame(sb_asmr_dict)\n",
    "sb_asmr_df.head()"
   ]
  },
  {
   "cell_type": "code",
   "execution_count": null,
   "metadata": {},
   "outputs": [],
   "source": []
  },
  {
   "cell_type": "code",
   "execution_count": null,
   "metadata": {},
   "outputs": [],
   "source": []
  }
 ],
 "metadata": {
  "kernelspec": {
   "display_name": "Python [conda env:PythonData]",
   "language": "python",
   "name": "conda-env-PythonData-py"
  },
  "language_info": {
   "codemirror_mode": {
    "name": "ipython",
    "version": 3
   },
   "file_extension": ".py",
   "mimetype": "text/x-python",
   "name": "python",
   "nbconvert_exporter": "python",
   "pygments_lexer": "ipython3",
   "version": "3.6.6"
  }
 },
 "nbformat": 4,
 "nbformat_minor": 2
}
