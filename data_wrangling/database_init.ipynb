{
 "cells": [
  {
   "cell_type": "code",
   "execution_count": 9,
   "metadata": {},
   "outputs": [],
   "source": [
    "import pymongo\n",
    "import json"
   ]
  },
  {
   "cell_type": "code",
   "execution_count": 10,
   "metadata": {},
   "outputs": [],
   "source": []
  },
  {
   "cell_type": "code",
   "execution_count": 14,
   "metadata": {},
   "outputs": [
    {
     "data": {
      "text/plain": [
       "<pymongo.results.UpdateResult at 0x20a0d230e48>"
      ]
     },
     "execution_count": 14,
     "metadata": {},
     "output_type": "execute_result"
    }
   ],
   "source": [
    "with open('final_asmr_data.json') as data_file:    \n",
    "    data = json.load(data_file)\n",
    "\n",
    "data.pop('_id', None)\n",
    "\n",
    "conn = 'mongodb://localhost:27017'\n",
    "client = pymongo.MongoClient(conn)\n",
    "mongoDb = client.asmr_youtube_test\n",
    "\n",
    "collection = mongoDb.asmr_data_test\n",
    "\n",
    "collection.update_one({}, {'$set': data }, upsert=True)"
   ]
  },
  {
   "cell_type": "code",
   "execution_count": 16,
   "metadata": {},
   "outputs": [
    {
     "data": {
      "text/plain": [
       "dict_keys(['Angelica', 'ASMRctica', 'ASMRDarling', 'ASMRGlow', 'ASMRKittyKlaw', 'ASMRPPOMO', 'ASMRrequests', 'ASMRSoundSpace', 'ASMRSurge', 'ASMRTheChew', 'Bluewhisper', 'CreativeCalmASMR', 'DrTASMR', 'EphemeralRift', 'FairyCharASMR', 'fastASMR', 'FredsVoiceASMR', 'FrivolousFoxASMR', 'GentleWhisperingASMR', 'GibiASMR', 'GoodnightMoon', 'GwenGwiz', 'HeatherFeatherASMR', 'HermeticKitten', 'JASMR', 'JojosAsmr', 'KarunaSatoriASMR', 'LatteASMR', 'LauraLemurexASMR', 'MarnoASMR', 'MassageASMR', 'MiniyuASMR', 'MissASMR', 'OliviaKissperASMR', 'PelageaASMR', 'PJDreams', 'RapunzelASMR', 'ScottishMurmurs', 'SensorAdiASMR', 'SleepyTinglesASMR', 'softlygaloshes', 'SouthernASMRSounds', 'SpringbokASMR', 'suellASMR', 'TheOneLiliumASMR', 'TingleBelleASMR', 'TingTingASMR', 'TirarADeguello', 'TonyBomboniASMR', 'WhispersRedASMR'])"
      ]
     },
     "execution_count": 16,
     "metadata": {},
     "output_type": "execute_result"
    }
   ],
   "source": [
    "with open('final_asmr_data.json') as data_file:    \n",
    "    data = json.load(data_file)\n",
    "\n",
    "data.pop('_id', None)\n",
    "data.keys()"
   ]
  },
  {
   "cell_type": "code",
   "execution_count": 22,
   "metadata": {},
   "outputs": [],
   "source": [
    "data_test = {'Angelica': data['Angelica'], 'ASMRctica': data['ASMRctica'], \n",
    "             'ASMRDarling': data['ASMRDarling'], 'ASMRGlow': data['ASMRGlow'], \n",
    "             'ASMRKittyKlaw': data['ASMRKittyKlaw']}"
   ]
  },
  {
   "cell_type": "code",
   "execution_count": 23,
   "metadata": {},
   "outputs": [
    {
     "data": {
      "text/plain": [
       "<pymongo.results.UpdateResult at 0x20a0e3d21c8>"
      ]
     },
     "execution_count": 23,
     "metadata": {},
     "output_type": "execute_result"
    }
   ],
   "source": [
    "\n",
    "\n",
    "\n",
    "conn = 'mongodb://localhost:27017'\n",
    "client = pymongo.MongoClient(conn)\n",
    "mongoDb = client.asmr_youtube_test\n",
    "\n",
    "collection = mongoDb.asmr_data_test\n",
    "\n",
    "collection.update_one({}, {'$set': data_test }, upsert=True)"
   ]
  }
 ],
 "metadata": {
  "kernelspec": {
   "display_name": "Python [conda env:PythonData]",
   "language": "python",
   "name": "conda-env-PythonData-py"
  },
  "language_info": {
   "codemirror_mode": {
    "name": "ipython",
    "version": 3
   },
   "file_extension": ".py",
   "mimetype": "text/x-python",
   "name": "python",
   "nbconvert_exporter": "python",
   "pygments_lexer": "ipython3",
   "version": "3.6.6"
  }
 },
 "nbformat": 4,
 "nbformat_minor": 2
}
